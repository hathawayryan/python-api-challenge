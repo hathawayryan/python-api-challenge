{
 "cells": [
  {
   "cell_type": "markdown",
   "metadata": {},
   "source": [
    "# WeatherPy\n",
    "----\n",
    "\n",
    "#### Note\n",
    "* Instructions have been included for each segment. You do not have to follow them exactly, but they are included to help you think through the steps."
   ]
  },
  {
   "cell_type": "code",
   "execution_count": null,
   "metadata": {},
   "outputs": [],
   "source": [
    "#describe linear regression\n",
    "#write 3 trends seen from this\n",
    "\n",
    "#include screenshot of heatmap"
   ]
  },
  {
   "cell_type": "code",
   "execution_count": 1,
   "metadata": {
    "scrolled": true
   },
   "outputs": [],
   "source": [
    "# Dependencies and Setup\n",
    "import matplotlib.pyplot as plt\n",
    "import pandas as pd\n",
    "import numpy as np\n",
    "import requests\n",
    "import time\n",
    "import json\n",
    "from scipy.stats import linregress\n",
    "\n",
    "# Import API key\n",
    "from api_keys import weather_api_key\n",
    "\n",
    "# Incorporated citipy to determine city based on latitude and longitude\n",
    "from citipy import citipy\n",
    "\n",
    "# Output File (CSV)\n",
    "output_data_file = \"output_data/cities.csv\"\n",
    "\n",
    "# Range of latitudes and longitudes\n",
    "lat_range = (-90, 90)\n",
    "lng_range = (-180, 180)\n",
    "\n"
   ]
  },
  {
   "cell_type": "markdown",
   "metadata": {},
   "source": [
    "## Generate Cities List"
   ]
  },
  {
   "cell_type": "code",
   "execution_count": 2,
   "metadata": {},
   "outputs": [
    {
     "data": {
      "text/plain": [
       "657"
      ]
     },
     "execution_count": 2,
     "metadata": {},
     "output_type": "execute_result"
    }
   ],
   "source": [
    "# List for holding lat_lngs and cities\n",
    "lat_lngs = []\n",
    "cities = []\n",
    "\n",
    "# Create a set of random lat and lng combinations\n",
    "lats = np.random.uniform(lat_range[0], lat_range[1], size=1500)\n",
    "lngs = np.random.uniform(lng_range[0], lng_range[1], size=1500)\n",
    "lat_lngs = zip(lats, lngs)\n",
    "\n",
    "# Identify nearest city for each lat, lng combination\n",
    "for lat_lng in lat_lngs:\n",
    "    city = citipy.nearest_city(lat_lng[0], lat_lng[1]).city_name\n",
    "    \n",
    "    # If the city is unique, then add it to a our cities list\n",
    "    if city not in cities:\n",
    "        cities.append(city)\n",
    "\n",
    "# Print the city count to confirm sufficient count\n",
    "len(cities)"
   ]
  },
  {
   "cell_type": "markdown",
   "metadata": {},
   "source": [
    "### Perform API Calls\n",
    "* Perform a weather check on each city using a series of successive API calls.\n",
    "* Include a print log of each city as it'sbeing processed (with the city number and city name).\n"
   ]
  },
  {
   "cell_type": "code",
   "execution_count": 3,
   "metadata": {},
   "outputs": [
    {
     "name": "stdout",
     "output_type": "stream",
     "text": [
      "37b70d4776930464ee4a96e36cd960be\n"
     ]
    }
   ],
   "source": [
    "print(weather_api_key)"
   ]
  },
  {
   "cell_type": "code",
   "execution_count": 4,
   "metadata": {
    "scrolled": true
   },
   "outputs": [
    {
     "data": {
      "text/plain": [
       "{'coord': {'lon': -0.13, 'lat': 51.51},\n",
       " 'weather': [{'id': 802,\n",
       "   'main': 'Clouds',\n",
       "   'description': 'scattered clouds',\n",
       "   'icon': '03n'}],\n",
       " 'base': 'stations',\n",
       " 'main': {'temp': 44.98,\n",
       "  'feels_like': 38.75,\n",
       "  'temp_min': 42.01,\n",
       "  'temp_max': 46.99,\n",
       "  'pressure': 1015,\n",
       "  'humidity': 81},\n",
       " 'visibility': 10000,\n",
       " 'wind': {'speed': 6.93, 'deg': 220},\n",
       " 'clouds': {'all': 49},\n",
       " 'dt': 1608510044,\n",
       " 'sys': {'type': 1,\n",
       "  'id': 1414,\n",
       "  'country': 'GB',\n",
       "  'sunrise': 1608537843,\n",
       "  'sunset': 1608566007},\n",
       " 'timezone': 0,\n",
       " 'id': 2643743,\n",
       " 'name': 'London',\n",
       " 'cod': 200}"
      ]
     },
     "execution_count": 4,
     "metadata": {},
     "output_type": "execute_result"
    }
   ],
   "source": [
    "cities_found = []\n",
    "countries = []\n",
    "latitudes = []\n",
    "longitudes = []\n",
    "city_ID = []\n",
    "temperatures = []\n",
    "humidities = []\n",
    "cloudinesses = []\n",
    "wind_speeds = []\n",
    "\n",
    "url = f'http://api.openweathermap.org/data/2.5/weather?q=london&appid={weather_api_key}&units=imperial' \n",
    "weather_response = requests.get(url).json()\n",
    "\n",
    "#print(json.dumps(weather_response, indent=4, sort_keys=True))\n",
    "weather_response\n",
    "\n",
    "\n"
   ]
  },
  {
   "cell_type": "code",
   "execution_count": 5,
   "metadata": {},
   "outputs": [
    {
     "name": "stdout",
     "output_type": "stream",
     "text": [
      "Processing weather data for saint-philippe, city ID: 935215\n",
      "Processing weather data for latisana, city ID: 3175055\n",
      "Processing weather data for chuy, city ID: 3443061\n",
      "Processing weather data for mataura, city ID: 6201424\n",
      "Processing weather data for egvekinot, city ID: 4031742\n",
      "fianga not found...skipping\n",
      "Processing weather data for tezpur, city ID: 1254710\n",
      "Processing weather data for bredasdorp, city ID: 1015776\n",
      "Processing weather data for banjar, city ID: 1650232\n",
      "Processing weather data for dharchula, city ID: 1272864\n",
      "Processing weather data for cap-aux-meules, city ID: 5915327\n",
      "Processing weather data for pevek, city ID: 2122090\n",
      "Processing weather data for muros, city ID: 3115824\n",
      "Processing weather data for praia da vitoria, city ID: 3372760\n",
      "Processing weather data for mumford, city ID: 2297810\n",
      "Processing weather data for puerto ayora, city ID: 3652764\n",
      "Processing weather data for obihiro, city ID: 2128815\n",
      "Processing weather data for mount darwin, city ID: 885800\n",
      "Processing weather data for atuona, city ID: 4020109\n",
      "Processing weather data for morgan city, city ID: 4333811\n",
      "Processing weather data for punta arenas, city ID: 3874787\n",
      "Processing weather data for nikolskoye, city ID: 546105\n",
      "Processing weather data for naze, city ID: 1855540\n",
      "Processing weather data for dakar, city ID: 2253354\n",
      "Processing weather data for atasu, city ID: 1526041\n",
      "Processing weather data for hermanus, city ID: 3366880\n",
      "Processing weather data for busselton, city ID: 2075265\n",
      "Processing weather data for cabo san lucas, city ID: 3985710\n",
      "Processing weather data for kahului, city ID: 5847411\n",
      "Processing weather data for ushuaia, city ID: 3833367\n",
      "Processing weather data for namibe, city ID: 3347019\n",
      "Processing weather data for correntina, city ID: 3465373\n",
      "Processing weather data for jamestown, city ID: 5122534\n",
      "Processing weather data for ahipara, city ID: 2194098\n",
      "Processing weather data for rikitea, city ID: 4030556\n",
      "Processing weather data for santa fe, city ID: 3836277\n",
      "Processing weather data for nizhnevartovsk, city ID: 1497543\n",
      "Processing weather data for praia, city ID: 3374333\n",
      "Processing weather data for cape town, city ID: 3369157\n",
      "Processing weather data for san patricio, city ID: 4726521\n",
      "Processing weather data for east london, city ID: 1006984\n",
      "Processing weather data for marsabit, city ID: 187585\n",
      "Processing weather data for ancud, city ID: 3899695\n",
      "Processing weather data for luna, city ID: 1705105\n",
      "Processing weather data for batticaloa, city ID: 1250161\n",
      "belushya guba not found...skipping\n",
      "Processing weather data for arraial do cabo, city ID: 3471451\n",
      "Processing weather data for hasaki, city ID: 2112802\n",
      "Processing weather data for rincon, city ID: 4218882\n",
      "duz not found...skipping\n",
      "Processing weather data for tasiilaq, city ID: 3424607\n",
      "Processing weather data for te anau, city ID: 2181625\n",
      "Processing weather data for port alfred, city ID: 964432\n",
      "suao not found...skipping\n",
      "Processing weather data for champerico, city ID: 3598787\n",
      "Processing weather data for odweyne, city ID: 53372\n",
      "Processing weather data for grindavik, city ID: 3416888\n",
      "Processing weather data for sarkand, city ID: 1519691\n",
      "Processing weather data for lucenec, city ID: 3058986\n",
      "Processing weather data for hobart, city ID: 2163355\n",
      "Processing weather data for tecoanapa, city ID: 3516171\n",
      "ruatoria not found...skipping\n",
      "karauzyak not found...skipping\n",
      "Processing weather data for saskylakh, city ID: 2017155\n",
      "samusu not found...skipping\n",
      "Processing weather data for hilo, city ID: 5855927\n",
      "Processing weather data for yulara, city ID: 6355222\n",
      "Processing weather data for bluff, city ID: 2206939\n",
      "Processing weather data for lebu, city ID: 3883457\n",
      "Processing weather data for yellowknife, city ID: 6185377\n",
      "Processing weather data for dekar, city ID: 933815\n",
      "Processing weather data for rayon, city ID: 3517217\n",
      "Processing weather data for new norfolk, city ID: 2155415\n",
      "Processing weather data for parana, city ID: 3841956\n",
      "Processing weather data for mgandu, city ID: 154097\n",
      "Processing weather data for vaini, city ID: 4032243\n",
      "Processing weather data for port elizabeth, city ID: 964420\n",
      "Processing weather data for kushmurun, city ID: 1519924\n",
      "Processing weather data for tuatapere, city ID: 2180815\n",
      "Processing weather data for sao filipe, city ID: 3374210\n",
      "Processing weather data for jilotzingo, city ID: 3526499\n",
      "Processing weather data for hanzhong, city ID: 1808857\n",
      "Processing weather data for sambava, city ID: 1056899\n",
      "Processing weather data for palmas, city ID: 3474574\n",
      "Processing weather data for olafsvik, city ID: 3414079\n",
      "Processing weather data for castro, city ID: 3466704\n",
      "Processing weather data for paamiut, city ID: 3421193\n",
      "Processing weather data for coihaique, city ID: 3894426\n",
      "Processing weather data for souillac, city ID: 933995\n",
      "Processing weather data for saint-pierre, city ID: 935214\n",
      "Processing weather data for crixas, city ID: 3465145\n",
      "Processing weather data for dunedin, city ID: 2191562\n",
      "Processing weather data for hudson bay, city ID: 5978133\n",
      "Processing weather data for chokurdakh, city ID: 2126123\n",
      "Processing weather data for quatre cocos, city ID: 1106643\n",
      "Processing weather data for carlsbad, city ID: 5334223\n",
      "Processing weather data for saint-francois, city ID: 2980080\n",
      "Processing weather data for khatanga, city ID: 2022572\n",
      "Processing weather data for san andres, city ID: 3670218\n",
      "Processing weather data for albany, city ID: 5106841\n",
      "Processing weather data for zhoucheng, city ID: 1920772\n",
      "Processing weather data for tuntum, city ID: 3385922\n",
      "Processing weather data for kapaa, city ID: 5848280\n",
      "Processing weather data for honiara, city ID: 2108502\n",
      "Processing weather data for qaanaaq, city ID: 3831208\n",
      "Processing weather data for goderich, city ID: 5962442\n",
      "Processing weather data for tiznit, city ID: 2527087\n",
      "Processing weather data for abu kamal, city ID: 174448\n",
      "amderma not found...skipping\n",
      "Processing weather data for fukue, city ID: 1863997\n",
      "Processing weather data for mar del plata, city ID: 3430863\n",
      "Processing weather data for imeni poliny osipenko, city ID: 2023584\n",
      "Processing weather data for namatanai, city ID: 2090021\n",
      "Processing weather data for ribeira grande, city ID: 3372707\n",
      "Processing weather data for avarua, city ID: 4035715\n",
      "Processing weather data for gazojak, city ID: 1514792\n",
      "Processing weather data for georgetown, city ID: 1735106\n",
      "saleaula not found...skipping\n",
      "Processing weather data for marawi, city ID: 1701054\n",
      "Processing weather data for buala, city ID: 2109528\n",
      "Processing weather data for santiago de cao, city ID: 3692073\n",
      "Processing weather data for swan river, city ID: 6160362\n",
      "Processing weather data for samarai, city ID: 2132606\n",
      "attawapiskat not found...skipping\n",
      "Processing weather data for gaya, city ID: 1271439\n",
      "Processing weather data for mount isa, city ID: 2065594\n",
      "Processing weather data for tilichiki, city ID: 2120591\n",
      "Processing weather data for carnarvon, city ID: 2074865\n",
      "Processing weather data for iguape, city ID: 3461465\n",
      "Processing weather data for aklavik, city ID: 5882953\n",
      "Processing weather data for alofi, city ID: 4036284\n",
      "Processing weather data for upernavik, city ID: 3418910\n",
      "Processing weather data for derzhavinsk, city ID: 1524606\n",
      "taolanaro not found...skipping\n",
      "Processing weather data for penticton, city ID: 6101141\n",
      "Processing weather data for sangar, city ID: 2017215\n",
      "Processing weather data for mayo, city ID: 4362001\n",
      "Processing weather data for ouadda, city ID: 236901\n",
      "Processing weather data for barrow, city ID: 5880054\n",
      "Processing weather data for komsomolskiy, city ID: 1513491\n",
      "Processing weather data for villanueva de la serena, city ID: 2509553\n",
      "Processing weather data for pochutla, city ID: 3517970\n",
      "Processing weather data for kaitangata, city ID: 2208248\n",
      "Processing weather data for bukachacha, city ID: 2026023\n",
      "Processing weather data for vardo, city ID: 777019\n",
      "Processing weather data for isabela, city ID: 1710519\n",
      "Processing weather data for solton, city ID: 1491428\n",
      "Processing weather data for luderitz, city ID: 3355672\n",
      "Processing weather data for taltal, city ID: 3870243\n",
      "paradwip not found...skipping\n",
      "Processing weather data for yar-sale, city ID: 1486321\n",
      "Processing weather data for bubaque, city ID: 2374583\n",
      "Processing weather data for longyearbyen, city ID: 2729907\n",
      "Processing weather data for hobyo, city ID: 57000\n",
      "Processing weather data for shingu, city ID: 1847947\n"
     ]
    },
    {
     "name": "stdout",
     "output_type": "stream",
     "text": [
      "Processing weather data for nioro, city ID: 2412408\n",
      "Processing weather data for lagoa, city ID: 3372964\n",
      "grand river south east not found...skipping\n",
      "Processing weather data for suntar, city ID: 2015913\n",
      "Processing weather data for savannah bight, city ID: 3601402\n",
      "Processing weather data for jinchang, city ID: 1805733\n",
      "Processing weather data for holme, city ID: 2624652\n",
      "Processing weather data for kiama, city ID: 2161515\n",
      "Processing weather data for iqaluit, city ID: 5983720\n",
      "Processing weather data for hithadhoo, city ID: 1282256\n",
      "Processing weather data for kodiak, city ID: 5866583\n",
      "Processing weather data for dikson, city ID: 1507390\n",
      "Processing weather data for lompoc, city ID: 5367788\n",
      "Processing weather data for ola, city ID: 2122574\n",
      "Processing weather data for zabol, city ID: 1121143\n",
      "Processing weather data for lensk, city ID: 2020838\n",
      "Processing weather data for tigil, city ID: 2120612\n",
      "Processing weather data for groton, city ID: 4835461\n",
      "Processing weather data for humaita, city ID: 3664078\n",
      "Processing weather data for bajil, city ID: 77408\n",
      "Processing weather data for merauke, city ID: 2082539\n",
      "Processing weather data for celestun, city ID: 3531368\n",
      "Processing weather data for san cristobal, city ID: 3628473\n",
      "Processing weather data for carballo, city ID: 3126369\n",
      "Processing weather data for vostok, city ID: 2013279\n",
      "Processing weather data for bethel, city ID: 5282297\n",
      "Processing weather data for opole, city ID: 3337495\n",
      "Processing weather data for port hawkesbury, city ID: 6111867\n",
      "Processing weather data for dicamay, city ID: 1715010\n",
      "Processing weather data for marystown, city ID: 6067472\n",
      "Processing weather data for prieska, city ID: 964090\n",
      "Processing weather data for ginda, city ID: 1253628\n",
      "Processing weather data for tecolutilla, city ID: 3516149\n",
      "marcona not found...skipping\n",
      "Processing weather data for adrar, city ID: 2381972\n",
      "Processing weather data for umea, city ID: 602150\n",
      "Processing weather data for ruwi, city ID: 287286\n",
      "Processing weather data for lithakia, city ID: 258241\n",
      "Processing weather data for torbay, city ID: 6167817\n",
      "Processing weather data for norman wells, city ID: 6089245\n",
      "Processing weather data for vallenar, city ID: 3868633\n",
      "Processing weather data for porto seguro, city ID: 3452640\n",
      "Processing weather data for sines, city ID: 2262917\n",
      "Processing weather data for sao joao da barra, city ID: 3448903\n",
      "slevik not found...skipping\n",
      "Processing weather data for ahuimanu, city ID: 5856516\n",
      "Processing weather data for aswan, city ID: 359792\n",
      "Processing weather data for la rioja, city ID: 3336897\n",
      "Processing weather data for tuy hoa, city ID: 1563281\n",
      "Processing weather data for baykit, city ID: 1510689\n",
      "illoqqortoormiut not found...skipping\n",
      "macaboboni not found...skipping\n",
      "barbar not found...skipping\n",
      "Processing weather data for acajutla, city ID: 3587498\n",
      "Processing weather data for vestmannaeyjar, city ID: 3412093\n",
      "Processing weather data for flinders, city ID: 6255012\n",
      "Processing weather data for tukrah, city ID: 88834\n",
      "Processing weather data for victoria, city ID: 1819729\n",
      "Processing weather data for aden, city ID: 415189\n",
      "solovetskiy not found...skipping\n",
      "Processing weather data for longview, city ID: 4707814\n",
      "Processing weather data for talnakh, city ID: 1490256\n",
      "Processing weather data for san vicente, city ID: 3428068\n",
      "Processing weather data for aykhal, city ID: 2027296\n",
      "Processing weather data for vao, city ID: 2137773\n",
      "Processing weather data for evensk, city ID: 2125693\n",
      "Processing weather data for bogorodskoye, city ID: 575521\n",
      "Processing weather data for ambon, city ID: 1651531\n",
      "suzu not found...skipping\n",
      "Processing weather data for cidreira, city ID: 3466165\n",
      "Processing weather data for lovington, city ID: 5477090\n",
      "Processing weather data for roald, city ID: 3141667\n",
      "Processing weather data for cayenne, city ID: 3382160\n",
      "Processing weather data for esperance, city ID: 2071860\n",
      "Processing weather data for mindelo, city ID: 3374462\n",
      "Processing weather data for camacha, city ID: 2270385\n",
      "Processing weather data for puerto escondido, city ID: 3520994\n",
      "Processing weather data for zharkent, city ID: 1520253\n",
      "sentyabrskiy not found...skipping\n",
      "Processing weather data for bonfim, city ID: 3405215\n",
      "Processing weather data for bathsheba, city ID: 3374083\n",
      "Processing weather data for verkh-usugli, city ID: 2013459\n",
      "Processing weather data for mehamn, city ID: 778707\n",
      "Processing weather data for dumas, city ID: 5520552\n",
      "Processing weather data for husavik, city ID: 2629833\n",
      "tsihombe not found...skipping\n",
      "Processing weather data for college, city ID: 5859699\n",
      "Processing weather data for okha, city ID: 2122614\n",
      "Processing weather data for tamandare, city ID: 3386931\n",
      "Processing weather data for devils lake, city ID: 5058868\n",
      "artyk not found...skipping\n",
      "Processing weather data for cherskiy, city ID: 2126199\n",
      "Processing weather data for kotaparh, city ID: 1266029\n",
      "tawkar not found...skipping\n",
      "Processing weather data for matinha, city ID: 3395122\n",
      "Processing weather data for alugan, city ID: 1731248\n",
      "Processing weather data for poum, city ID: 2138555\n",
      "Processing weather data for bismarck, city ID: 5688025\n",
      "Processing weather data for sangin, city ID: 1127547\n",
      "Processing weather data for kushima, city ID: 1895695\n",
      "Processing weather data for muroto, city ID: 1856392\n",
      "Processing weather data for atar, city ID: 2381334\n",
      "Processing weather data for qaqortoq, city ID: 3420846\n",
      "Processing weather data for sur, city ID: 286245\n",
      "Processing weather data for fare, city ID: 4034496\n",
      "Processing weather data for nabire, city ID: 1634614\n",
      "Processing weather data for dongsheng, city ID: 1812256\n",
      "Processing weather data for dubbo, city ID: 2168305\n",
      "Processing weather data for sinjar, city ID: 448149\n",
      "Processing weather data for cabedelo, city ID: 3404558\n",
      "Processing weather data for cockburn town, city ID: 3576994\n",
      "Processing weather data for omsukchan, city ID: 2122493\n",
      "Processing weather data for narsaq, city ID: 3421719\n",
      "Processing weather data for lafia, city ID: 2332515\n",
      "Processing weather data for rudsar, city ID: 118191\n",
      "Processing weather data for de land, city ID: 4152890\n",
      "Processing weather data for saldanha, city ID: 3361934\n",
      "Processing weather data for botwood, city ID: 5906229\n",
      "palabuhanratu not found...skipping\n",
      "Processing weather data for lugovoy, city ID: 1521293\n",
      "Processing weather data for arcata, city ID: 5558953\n",
      "Processing weather data for homer, city ID: 5864145\n",
      "Processing weather data for dhidhdhoo, city ID: 1337612\n",
      "Processing weather data for butaritari, city ID: 2110227\n",
      "Processing weather data for vedeno, city ID: 476252\n",
      "Processing weather data for bambous virieux, city ID: 1106677\n",
      "Processing weather data for forestville, city ID: 4355274\n",
      "Processing weather data for sydney, city ID: 2147714\n",
      "Processing weather data for tevaitoa, city ID: 4033375\n",
      "Processing weather data for kirakira, city ID: 2178753\n",
      "Processing weather data for marsaxlokk, city ID: 2562247\n",
      "Processing weather data for kloulklubed, city ID: 7671223\n",
      "sorvag not found...skipping\n",
      "Processing weather data for setermoen, city ID: 3139765\n",
      "Processing weather data for kochi, city ID: 1273874\n",
      "karaul not found...skipping\n",
      "Processing weather data for ponta do sol, city ID: 2264557\n",
      "nizhneyansk not found...skipping\n",
      "Processing weather data for lazaro cardenas, city ID: 4026082\n",
      "tabiauea not found...skipping\n",
      "Processing weather data for ambilobe, city ID: 1082243\n",
      "Processing weather data for martapura, city ID: 1636022\n",
      "Processing weather data for katsuura, city ID: 2112309\n",
      "Processing weather data for weligama, city ID: 1223738\n",
      "Processing weather data for marzuq, city ID: 72181\n",
      "toliary not found...skipping\n",
      "Processing weather data for udachnyy, city ID: 2014624\n",
      "Processing weather data for camopi, city ID: 3382226\n",
      "Processing weather data for tiarei, city ID: 4033356\n",
      "Processing weather data for antsohihy, city ID: 1068971\n",
      "Processing weather data for kamaishi, city ID: 2112444\n",
      "Processing weather data for klaksvik, city ID: 2618795\n",
      "Processing weather data for kanniyakumari, city ID: 1268008\n",
      "Processing weather data for melenki, city ID: 527740\n",
      "Processing weather data for kruisfontein, city ID: 986717\n",
      "Processing weather data for fortuna, city ID: 5563839\n",
      "mys shmidta not found...skipping\n",
      "Processing weather data for thyolo, city ID: 923652\n",
      "Processing weather data for garowe, city ID: 58933\n"
     ]
    },
    {
     "name": "stdout",
     "output_type": "stream",
     "text": [
      "Processing weather data for jahazpur, city ID: 1269545\n",
      "Processing weather data for hambantota, city ID: 1244926\n",
      "Processing weather data for kang, city ID: 933692\n",
      "Processing weather data for domoni, city ID: 921906\n",
      "Processing weather data for thompson, city ID: 6165406\n",
      "Processing weather data for mana, city ID: 3381041\n",
      "Processing weather data for tommot, city ID: 2015179\n",
      "longlac not found...skipping\n",
      "tuggurt not found...skipping\n",
      "Processing weather data for fort nelson, city ID: 5955902\n",
      "Processing weather data for tiksi, city ID: 2015306\n",
      "Processing weather data for plettenberg bay, city ID: 964712\n",
      "Processing weather data for sembe, city ID: 2255304\n",
      "Processing weather data for beringovskiy, city ID: 2126710\n",
      "Processing weather data for kodinsk, city ID: 1503037\n",
      "Processing weather data for rognan, city ID: 3141548\n",
      "Processing weather data for laje, city ID: 3459088\n",
      "Processing weather data for swellendam, city ID: 950709\n",
      "Processing weather data for kinablangan, city ID: 1708743\n",
      "Processing weather data for trelew, city ID: 3833883\n",
      "Processing weather data for guangyuan, city ID: 1806466\n",
      "Processing weather data for fairbanks, city ID: 5861897\n",
      "Processing weather data for hovd, city ID: 1516048\n",
      "Processing weather data for mulege, city ID: 3995236\n",
      "warqla not found...skipping\n",
      "Processing weather data for dwarka, city ID: 1272140\n",
      "Processing weather data for north bend, city ID: 5742974\n",
      "Processing weather data for airai, city ID: 1651810\n",
      "Processing weather data for tuktoyaktuk, city ID: 6170031\n",
      "Processing weather data for henties bay, city ID: 3356832\n",
      "Processing weather data for uvelskiy, city ID: 1487933\n",
      "solsvik not found...skipping\n",
      "Processing weather data for funadhoo, city ID: 1337620\n",
      "sataua not found...skipping\n",
      "Processing weather data for meulaboh, city ID: 1214488\n",
      "Processing weather data for sulangan, city ID: 1685422\n",
      "Processing weather data for callaway, city ID: 4149635\n",
      "umzimvubu not found...skipping\n",
      "Processing weather data for hualmay, city ID: 3939761\n",
      "Processing weather data for tezu, city ID: 1254709\n",
      "Processing weather data for mount gambier, city ID: 2156643\n",
      "Processing weather data for lavrentiya, city ID: 4031637\n",
      "Processing weather data for aitape, city ID: 2101169\n",
      "Processing weather data for isangel, city ID: 2136825\n",
      "hendijan not found...skipping\n",
      "Processing weather data for sitka, city ID: 5557293\n",
      "Processing weather data for kautokeino, city ID: 779330\n",
      "Processing weather data for miyako, city ID: 2111884\n",
      "Processing weather data for vila velha, city ID: 3445026\n",
      "Processing weather data for innoshima, city ID: 1861586\n",
      "Processing weather data for kudat, city ID: 1736458\n",
      "Processing weather data for pangody, city ID: 1495626\n",
      "Processing weather data for itarema, city ID: 3393692\n",
      "Processing weather data for bengkulu, city ID: 1649150\n",
      "galiwinku not found...skipping\n",
      "barentsburg not found...skipping\n",
      "miranorte not found...skipping\n",
      "moiyabana not found...skipping\n",
      "Processing weather data for lokosovo, city ID: 1500399\n",
      "Processing weather data for kwinana, city ID: 2068079\n",
      "Processing weather data for geraldton, city ID: 2070998\n",
      "Processing weather data for sovetskiy, city ID: 1491230\n",
      "Processing weather data for maba, city ID: 1801615\n",
      "Processing weather data for kokopo, city ID: 2093685\n",
      "Processing weather data for gbarnga, city ID: 2277060\n",
      "Processing weather data for nakskov, city ID: 2616599\n",
      "Processing weather data for marsa matruh, city ID: 352733\n",
      "Processing weather data for saint george, city ID: 5546220\n",
      "Processing weather data for noumea, city ID: 2139521\n",
      "Processing weather data for gushikawa, city ID: 1863495\n",
      "Processing weather data for north platte, city ID: 5697939\n",
      "Processing weather data for port hardy, city ID: 6111862\n",
      "Processing weather data for khasan, city ID: 2039557\n",
      "Processing weather data for iquitos, city ID: 3696183\n",
      "vaitupu not found...skipping\n",
      "Processing weather data for lodja, city ID: 211647\n",
      "Processing weather data for hamilton, city ID: 4513583\n",
      "Processing weather data for tondela, city ID: 2733533\n",
      "Processing weather data for jalingo, city ID: 2336589\n",
      "Processing weather data for goiatuba, city ID: 3462371\n",
      "Processing weather data for kozhevnikovo, city ID: 1502257\n",
      "Processing weather data for dingle, city ID: 1714733\n",
      "Processing weather data for selma, city ID: 5394329\n",
      "Processing weather data for lakatoro, city ID: 2136697\n",
      "Processing weather data for nishihara, city ID: 1855342\n",
      "Processing weather data for palkino, city ID: 513051\n",
      "Processing weather data for quelimane, city ID: 1028434\n",
      "Processing weather data for severo-kurilsk, city ID: 2121385\n",
      "Processing weather data for high rock, city ID: 3572189\n",
      "Processing weather data for faanui, city ID: 4034551\n",
      "Processing weather data for cabatuan, city ID: 1721720\n",
      "burica not found...skipping\n",
      "Processing weather data for santa maria, city ID: 3450083\n",
      "obluche not found...skipping\n",
      "Processing weather data for asau, city ID: 686090\n",
      "Processing weather data for kyren, city ID: 2021031\n",
      "Processing weather data for nieuw amsterdam, city ID: 3383434\n",
      "Processing weather data for popondetta, city ID: 2088163\n",
      "Processing weather data for makaryev, city ID: 532138\n",
      "Processing weather data for sakata, city ID: 1853140\n",
      "Processing weather data for prescott, city ID: 5309842\n",
      "Processing weather data for bend, city ID: 5713587\n",
      "Processing weather data for juneau, city ID: 5554072\n",
      "Processing weather data for santa isabel do rio negro, city ID: 3662489\n",
      "Processing weather data for tshikapa, city ID: 204953\n",
      "bur gabo not found...skipping\n",
      "Processing weather data for cananea, city ID: 4015700\n",
      "Processing weather data for petrov val, city ID: 509826\n",
      "Processing weather data for akyab, city ID: 1295765\n",
      "Processing weather data for santa rosa, city ID: 1687894\n",
      "Processing weather data for hit, city ID: 95788\n",
      "Processing weather data for delemont, city ID: 2661035\n",
      "Processing weather data for talpa, city ID: 3991622\n",
      "Processing weather data for sinnamary, city ID: 3380290\n",
      "Processing weather data for awbari, city ID: 2219235\n",
      "Processing weather data for venice, city ID: 4176380\n",
      "Processing weather data for laredo, city ID: 4705349\n",
      "Processing weather data for chirkey, city ID: 568077\n",
      "Processing weather data for santander, city ID: 3109718\n",
      "Processing weather data for chapleau, city ID: 5919915\n",
      "Processing weather data for daru, city ID: 2098329\n",
      "Processing weather data for avera, city ID: 4231997\n",
      "Processing weather data for salalah, city ID: 286621\n",
      "Processing weather data for boa esperanca, city ID: 3469932\n",
      "Processing weather data for jizan, city ID: 105298\n",
      "Processing weather data for shahr-e babak, city ID: 115781\n",
      "Processing weather data for nakamura, city ID: 1855891\n",
      "cockburn harbour not found...skipping\n",
      "Processing weather data for kuminskiy, city ID: 1501429\n",
      "Processing weather data for ayan, city ID: 2027316\n",
      "Processing weather data for coos bay, city ID: 5720495\n",
      "Processing weather data for ponte de sor, city ID: 2264538\n",
      "Processing weather data for clyde river, city ID: 5924351\n",
      "Processing weather data for nkhata bay, city ID: 924732\n",
      "Processing weather data for lisakovsk, city ID: 1521315\n",
      "Processing weather data for zarichne, city ID: 687652\n",
      "Processing weather data for belyy yar, city ID: 1510377\n",
      "Processing weather data for mahon, city ID: 2514301\n",
      "Processing weather data for barcelos, city ID: 2742416\n",
      "Processing weather data for sheltozero, city ID: 494970\n",
      "mrirt not found...skipping\n",
      "Processing weather data for muzhi, city ID: 1498161\n",
      "Processing weather data for nemuro, city ID: 2128975\n",
      "Processing weather data for sioux lookout, city ID: 6148373\n",
      "Processing weather data for lipovtsy, city ID: 2020752\n",
      "Processing weather data for sahuaripa, city ID: 3988265\n",
      "Processing weather data for tromso, city ID: 6453316\n",
      "Processing weather data for de-kastri, city ID: 2126018\n",
      "Processing weather data for necochea, city ID: 3430443\n",
      "Processing weather data for bandarbeyla, city ID: 64814\n",
      "Processing weather data for tura, city ID: 1254046\n",
      "Processing weather data for barguzin, city ID: 2027109\n",
      "Processing weather data for campbeltown, city ID: 2653915\n",
      "Processing weather data for sanary-sur-mer, city ID: 2976258\n",
      "Processing weather data for soe, city ID: 1626703\n",
      "Processing weather data for port lincoln, city ID: 2063036\n",
      "Processing weather data for bafata, city ID: 2375255\n",
      "Processing weather data for sibolga, city ID: 1213855\n",
      "Processing weather data for sao francisco de assis, city ID: 3449124\n"
     ]
    },
    {
     "name": "stdout",
     "output_type": "stream",
     "text": [
      "Processing weather data for rundu, city ID: 3353383\n",
      "Processing weather data for chingirlau, city ID: 610091\n",
      "Processing weather data for jalu, city ID: 86049\n",
      "Processing weather data for inhambane, city ID: 1045114\n",
      "Processing weather data for wattegama, city ID: 1224061\n",
      "Processing weather data for bellefontaine, city ID: 5146965\n",
      "Processing weather data for nanga eboko, city ID: 2225457\n",
      "Processing weather data for gboko, city ID: 2318374\n",
      "Processing weather data for yantikovo, city ID: 469049\n",
      "Processing weather data for leningradskiy, city ID: 2123814\n",
      "Processing weather data for guarapari, city ID: 3461888\n",
      "Processing weather data for yumen, city ID: 1528998\n",
      "Processing weather data for sungaipenuh, city ID: 1625929\n",
      "Processing weather data for padang, city ID: 1633419\n",
      "Processing weather data for whitehorse, city ID: 6180550\n",
      "Processing weather data for ilulissat, city ID: 3423146\n",
      "Processing weather data for chulman, city ID: 2025261\n",
      "Processing weather data for kaputa, city ID: 176758\n",
      "buon me thuot not found...skipping\n",
      "Processing weather data for osecina, city ID: 3193944\n",
      "Processing weather data for lulea, city ID: 604490\n",
      "Processing weather data for orchard homes, city ID: 5670128\n",
      "Processing weather data for labuan, city ID: 1733782\n",
      "azimur not found...skipping\n",
      "Processing weather data for edd, city ID: 338345\n",
      "Processing weather data for ust-tsilma, city ID: 477940\n",
      "Processing weather data for soller, city ID: 2510821\n",
      "Processing weather data for constitucion, city ID: 3893726\n",
      "Processing weather data for yuzhno-sukhokumsk, city ID: 466060\n",
      "Processing weather data for bud, city ID: 4255151\n",
      "Processing weather data for lorengau, city ID: 2092164\n",
      "Processing weather data for victor harbor, city ID: 2059470\n",
      "Processing weather data for provideniya, city ID: 4031574\n",
      "Processing weather data for eirunepe, city ID: 3664321\n",
      "Processing weather data for pestovo, city ID: 510364\n",
      "Processing weather data for batangafo, city ID: 2389691\n",
      "Processing weather data for elban, city ID: 2024449\n",
      "Processing weather data for berdigestyakh, city ID: 2026861\n",
      "Processing weather data for ngama, city ID: 2427036\n",
      "Processing weather data for auki, city ID: 2109701\n",
      "Processing weather data for kallidaikurichchi, city ID: 1268360\n",
      "Processing weather data for petukhovo, city ID: 1495022\n",
      "Processing weather data for richards bay, city ID: 962367\n",
      "Processing weather data for grants, city ID: 5469841\n",
      "Processing weather data for yueyang, city ID: 1927639\n",
      "Processing weather data for elizabeth city, city ID: 4465088\n",
      "Processing weather data for eucaliptus, city ID: 3902685\n",
      "Processing weather data for oranjestad, city ID: 3577154\n",
      "Processing weather data for kjollefjord, city ID: 779261\n",
      "Processing weather data for yarmouth, city ID: 4956335\n",
      "Processing weather data for serenje, city ID: 898912\n",
      "Processing weather data for poplar bluff, city ID: 4404233\n",
      "Processing weather data for bowen, city ID: 2174444\n",
      "Processing weather data for port hedland, city ID: 2063042\n",
      "Processing weather data for terney, city ID: 2015352\n",
      "Processing weather data for laguna, city ID: 5364271\n",
      "Processing weather data for huilong, city ID: 1806840\n",
      "Processing weather data for khani, city ID: 610864\n",
      "Processing weather data for gorom-gorom, city ID: 2360372\n",
      "Processing weather data for nome, city ID: 5870133\n",
      "sahrak not found...skipping\n",
      "Processing weather data for alice springs, city ID: 2077895\n",
      "Processing weather data for iquique, city ID: 3887127\n",
      "Processing weather data for mbaiki, city ID: 2384770\n",
      "Processing weather data for gamba, city ID: 2400547\n",
      "Processing weather data for tubuala, city ID: 3700393\n",
      "Processing weather data for lastoursville, city ID: 2399870\n",
      "Processing weather data for pisco, city ID: 3932145\n",
      "Processing weather data for tarko-sale, city ID: 1490085\n",
      "Processing weather data for changqing, city ID: 1815585\n",
      "Processing weather data for asfi, city ID: 2537881\n",
      "Processing weather data for prince rupert, city ID: 6113406\n",
      "Processing weather data for chanute, city ID: 4269392\n",
      "a not found...skipping\n",
      "Processing weather data for masunga, city ID: 933390\n",
      "Processing weather data for kromy, city ID: 540776\n",
      "Processing weather data for racine, city ID: 5268253\n",
      "Processing weather data for byron bay, city ID: 2172880\n",
      "Processing weather data for san quintin, city ID: 3984997\n",
      "Processing weather data for usinsk, city ID: 863061\n",
      "litoral del san juan not found...skipping\n",
      "Processing weather data for ranong, city ID: 1150965\n",
      "Processing weather data for sisimiut, city ID: 3419842\n",
      "Processing weather data for yerkoy, city ID: 296895\n",
      "Processing weather data for yerbogachen, city ID: 2012956\n",
      "Processing weather data for faya, city ID: 110690\n",
      "Processing weather data for zheleznogorsk-ilimskiy, city ID: 2012557\n",
      "Processing weather data for caravelas, city ID: 3466980\n",
      "Processing weather data for maraba, city ID: 3395503\n",
      "Processing weather data for sandi, city ID: 1257461\n",
      "mutsamudu not found...skipping\n",
      "Processing weather data for sarana, city ID: 498703\n",
      "Processing weather data for walvis bay, city ID: 3359638\n",
      "Processing weather data for brigg, city ID: 2654721\n",
      "Processing weather data for labuhan, city ID: 8079926\n",
      "Processing weather data for kharan, city ID: 1174062\n",
      "jiroft not found...skipping\n",
      "Processing weather data for panlaitan, city ID: 1695065\n",
      "Processing weather data for pinhao, city ID: 3453777\n",
      "Processing weather data for santa cruz del sur, city ID: 3537840\n",
      "Processing weather data for whitefish, city ID: 5686121\n",
      "Processing weather data for oksfjord, city ID: 778362\n",
      "bargal not found...skipping\n",
      "Processing weather data for ormond beach, city ID: 4167178\n",
      "dolbeau not found...skipping\n",
      "Processing weather data for mahebourg, city ID: 934322\n",
      "Processing weather data for bhan, city ID: 1182775\n",
      "Processing weather data for tual, city ID: 1623197\n",
      "tumannyy not found...skipping\n",
      "Processing weather data for san carlos de bariloche, city ID: 7647007\n",
      "Processing weather data for dicabisagan, city ID: 1715015\n",
      "hihifo not found...skipping\n",
      "Processing weather data for portland, city ID: 5746545\n",
      "Processing weather data for tunduma, city ID: 149402\n",
      "Processing weather data for olden, city ID: 3135601\n",
      "Processing weather data for ouesso, city ID: 2255564\n",
      "Processing weather data for cascas, city ID: 3698705\n",
      "Processing weather data for agadir, city ID: 2561668\n",
      "Processing weather data for ulladulla, city ID: 2145554\n",
      "Processing weather data for tambilil, city ID: 1683602\n",
      "Processing weather data for chern, city ID: 569116\n",
      "kopyevo not found...skipping\n",
      "Processing weather data for shitanjing, city ID: 1794971\n",
      "Processing weather data for korla, city ID: 1529376\n",
      "Processing weather data for katobu, city ID: 1640972\n",
      "Processing weather data for tawang, city ID: 1254832\n",
      "Processing weather data for campbell river, city ID: 5914132\n",
      "Processing weather data for motygino, city ID: 1498314\n",
      "ijaki not found...skipping\n",
      "Processing weather data for leh, city ID: 1264976\n",
      "Processing weather data for moose factory, city ID: 6078372\n",
      "Processing weather data for chernyshevskiy, city ID: 2025456\n",
      "Processing weather data for vila do maio, city ID: 3374120\n",
      "Processing weather data for west bay, city ID: 3580477\n",
      "Processing weather data for palmer, city ID: 4946620\n",
      "Processing weather data for biltine, city ID: 244878\n",
      "kawana waters not found...skipping\n",
      "Processing weather data for barra do bugres, city ID: 3470718\n",
      "Processing weather data for okhotsk, city ID: 2122605\n",
      "Processing weather data for itoman, city ID: 1861280\n",
      "Processing weather data for haradok, city ID: 628155\n",
      "Processing weather data for ngunguru, city ID: 2186111\n",
      "Processing weather data for beyla, city ID: 2423126\n",
      "Processing weather data for tazovskiy, city ID: 1489853\n",
      "Processing weather data for olhao, city ID: 2265447\n",
      "Processing weather data for waw, city ID: 363885\n",
      "Processing weather data for mattru, city ID: 2409215\n",
      "Processing weather data for rio gallegos, city ID: 3838859\n",
      "Processing weather data for lokossa, city ID: 2392897\n",
      "Processing weather data for petropavlovsk-kamchatskiy, city ID: 2122104\n",
      "Processing weather data for kilindoni, city ID: 157429\n",
      "Processing weather data for mujiayingzi, city ID: 2035707\n",
      "Processing weather data for oriximina, city ID: 3393471\n",
      "Processing weather data for taoudenni, city ID: 2450173\n",
      "Processing weather data for brae, city ID: 2654970\n",
      "Processing weather data for esmeralda, city ID: 3559318\n"
     ]
    },
    {
     "name": "stdout",
     "output_type": "stream",
     "text": [
      "Processing weather data for opalenica, city ID: 3090076\n",
      "Processing weather data for fayetteville, city ID: 4466033\n",
      "Processing weather data for tautira, city ID: 4033557\n",
      "Processing weather data for paragominas, city ID: 3393106\n",
      "Processing weather data for ferrandina, city ID: 3177094\n",
      "Processing weather data for rancho palos verdes, city ID: 5386035\n",
      "Processing weather data for tsarychanka, city ID: 691155\n",
      "Processing weather data for nyaunglebin, city ID: 1303406\n",
      "Processing weather data for ukiah, city ID: 5404476\n",
      "Processing weather data for tucurui, city ID: 3385935\n",
      "Processing weather data for murgab, city ID: 1218612\n",
      "Processing weather data for zhangye, city ID: 1785036\n",
      "Processing weather data for chalakudi, city ID: 1266452\n",
      "Processing weather data for gayny, city ID: 561698\n",
      "Processing weather data for soc trang, city ID: 1567788\n",
      "Processing weather data for marang, city ID: 1734715\n",
      "Processing weather data for shumikha, city ID: 1491999\n",
      "Processing weather data for beirut, city ID: 276781\n",
      "Processing weather data for harer, city ID: 335035\n",
      "Processing weather data for smithers, city ID: 6149996\n",
      "Processing weather data for charters towers, city ID: 2171722\n",
      "Processing weather data for petatlan, city ID: 3992842\n",
      "Processing weather data for nerchinskiy zavod, city ID: 2019323\n",
      "Processing weather data for yarada, city ID: 1252783\n",
      "Processing weather data for tari, city ID: 2322495\n",
      "Processing weather data for rawlins, city ID: 5836068\n",
      "Processing weather data for nanortalik, city ID: 3421765\n",
      "Processing weather data for inuvik, city ID: 5983607\n"
     ]
    }
   ],
   "source": [
    "for city in cities:\n",
    "    url = f'http://api.openweathermap.org/data/2.5/weather?q={city}&appid={weather_api_key}&units=imperial' \n",
    "    weather_response = requests.get(url).json()\n",
    "    \n",
    "    try:\n",
    "        city_ID.append(weather_response['id'])\n",
    "        temperatures.append(weather_response['main']['temp'])\n",
    "        humidities.append(weather_response['main']['humidity'])\n",
    "        cloudinesses.append(weather_response['clouds']['all'])\n",
    "        wind_speeds.append(weather_response['wind']['speed'])\n",
    "        latitudes.append(weather_response['coord']['lat'])\n",
    "        longitudes.append(weather_response['coord']['lon'])\n",
    "        cities_found.append(city)\n",
    "        countries.append(weather_response['sys']['country'])\n",
    "        print(f'Processing weather data for {city}, city ID: {weather_response[\"id\"]}')\n",
    "    except:\n",
    "        print(f'{city} not found...skipping')\n",
    "\n",
    "\n",
    "\n",
    "  "
   ]
  },
  {
   "cell_type": "code",
   "execution_count": 7,
   "metadata": {},
   "outputs": [
    {
     "data": {
      "text/plain": [
       "595"
      ]
     },
     "execution_count": 7,
     "metadata": {},
     "output_type": "execute_result"
    }
   ],
   "source": [
    "len(longitudes)"
   ]
  },
  {
   "cell_type": "code",
   "execution_count": 8,
   "metadata": {},
   "outputs": [
    {
     "data": {
      "text/html": [
       "<div>\n",
       "<style scoped>\n",
       "    .dataframe tbody tr th:only-of-type {\n",
       "        vertical-align: middle;\n",
       "    }\n",
       "\n",
       "    .dataframe tbody tr th {\n",
       "        vertical-align: top;\n",
       "    }\n",
       "\n",
       "    .dataframe thead th {\n",
       "        text-align: right;\n",
       "    }\n",
       "</style>\n",
       "<table border=\"1\" class=\"dataframe\">\n",
       "  <thead>\n",
       "    <tr style=\"text-align: right;\">\n",
       "      <th></th>\n",
       "      <th>City</th>\n",
       "      <th>City ID</th>\n",
       "      <th>Country</th>\n",
       "      <th>Latitude</th>\n",
       "      <th>Longitude</th>\n",
       "      <th>Temperature</th>\n",
       "      <th>Humidity</th>\n",
       "      <th>Cloudiness</th>\n",
       "      <th>Wind Speed</th>\n",
       "    </tr>\n",
       "  </thead>\n",
       "  <tbody>\n",
       "    <tr>\n",
       "      <th>0</th>\n",
       "      <td>saint-philippe</td>\n",
       "      <td>935215</td>\n",
       "      <td>RE</td>\n",
       "      <td>-21.36</td>\n",
       "      <td>55.77</td>\n",
       "      <td>71.64</td>\n",
       "      <td>69</td>\n",
       "      <td>20</td>\n",
       "      <td>4.70</td>\n",
       "    </tr>\n",
       "    <tr>\n",
       "      <th>1</th>\n",
       "      <td>latisana</td>\n",
       "      <td>3175055</td>\n",
       "      <td>IT</td>\n",
       "      <td>45.78</td>\n",
       "      <td>13.00</td>\n",
       "      <td>46.69</td>\n",
       "      <td>85</td>\n",
       "      <td>99</td>\n",
       "      <td>2.80</td>\n",
       "    </tr>\n",
       "    <tr>\n",
       "      <th>2</th>\n",
       "      <td>chuy</td>\n",
       "      <td>3443061</td>\n",
       "      <td>UY</td>\n",
       "      <td>-33.70</td>\n",
       "      <td>-53.46</td>\n",
       "      <td>60.33</td>\n",
       "      <td>64</td>\n",
       "      <td>0</td>\n",
       "      <td>10.67</td>\n",
       "    </tr>\n",
       "    <tr>\n",
       "      <th>3</th>\n",
       "      <td>mataura</td>\n",
       "      <td>6201424</td>\n",
       "      <td>NZ</td>\n",
       "      <td>-46.19</td>\n",
       "      <td>168.86</td>\n",
       "      <td>60.01</td>\n",
       "      <td>77</td>\n",
       "      <td>100</td>\n",
       "      <td>8.01</td>\n",
       "    </tr>\n",
       "    <tr>\n",
       "      <th>4</th>\n",
       "      <td>egvekinot</td>\n",
       "      <td>4031742</td>\n",
       "      <td>RU</td>\n",
       "      <td>66.32</td>\n",
       "      <td>-179.17</td>\n",
       "      <td>-16.29</td>\n",
       "      <td>84</td>\n",
       "      <td>14</td>\n",
       "      <td>15.75</td>\n",
       "    </tr>\n",
       "    <tr>\n",
       "      <th>...</th>\n",
       "      <td>...</td>\n",
       "      <td>...</td>\n",
       "      <td>...</td>\n",
       "      <td>...</td>\n",
       "      <td>...</td>\n",
       "      <td>...</td>\n",
       "      <td>...</td>\n",
       "      <td>...</td>\n",
       "      <td>...</td>\n",
       "    </tr>\n",
       "    <tr>\n",
       "      <th>590</th>\n",
       "      <td>yarada</td>\n",
       "      <td>1252783</td>\n",
       "      <td>IN</td>\n",
       "      <td>17.65</td>\n",
       "      <td>83.27</td>\n",
       "      <td>60.80</td>\n",
       "      <td>87</td>\n",
       "      <td>0</td>\n",
       "      <td>2.24</td>\n",
       "    </tr>\n",
       "    <tr>\n",
       "      <th>591</th>\n",
       "      <td>tari</td>\n",
       "      <td>2322495</td>\n",
       "      <td>NG</td>\n",
       "      <td>12.41</td>\n",
       "      <td>4.49</td>\n",
       "      <td>74.03</td>\n",
       "      <td>20</td>\n",
       "      <td>0</td>\n",
       "      <td>8.68</td>\n",
       "    </tr>\n",
       "    <tr>\n",
       "      <th>592</th>\n",
       "      <td>rawlins</td>\n",
       "      <td>5836068</td>\n",
       "      <td>US</td>\n",
       "      <td>41.79</td>\n",
       "      <td>-107.24</td>\n",
       "      <td>34.93</td>\n",
       "      <td>59</td>\n",
       "      <td>75</td>\n",
       "      <td>21.92</td>\n",
       "    </tr>\n",
       "    <tr>\n",
       "      <th>593</th>\n",
       "      <td>nanortalik</td>\n",
       "      <td>3421765</td>\n",
       "      <td>GL</td>\n",
       "      <td>60.14</td>\n",
       "      <td>-45.24</td>\n",
       "      <td>26.51</td>\n",
       "      <td>97</td>\n",
       "      <td>100</td>\n",
       "      <td>11.21</td>\n",
       "    </tr>\n",
       "    <tr>\n",
       "      <th>594</th>\n",
       "      <td>inuvik</td>\n",
       "      <td>5983607</td>\n",
       "      <td>CA</td>\n",
       "      <td>68.35</td>\n",
       "      <td>-133.72</td>\n",
       "      <td>-37.26</td>\n",
       "      <td>65</td>\n",
       "      <td>8</td>\n",
       "      <td>2.24</td>\n",
       "    </tr>\n",
       "  </tbody>\n",
       "</table>\n",
       "<p>595 rows × 9 columns</p>\n",
       "</div>"
      ],
      "text/plain": [
       "               City  City ID Country  Latitude  Longitude  Temperature  \\\n",
       "0    saint-philippe   935215      RE    -21.36      55.77        71.64   \n",
       "1          latisana  3175055      IT     45.78      13.00        46.69   \n",
       "2              chuy  3443061      UY    -33.70     -53.46        60.33   \n",
       "3           mataura  6201424      NZ    -46.19     168.86        60.01   \n",
       "4         egvekinot  4031742      RU     66.32    -179.17       -16.29   \n",
       "..              ...      ...     ...       ...        ...          ...   \n",
       "590          yarada  1252783      IN     17.65      83.27        60.80   \n",
       "591            tari  2322495      NG     12.41       4.49        74.03   \n",
       "592         rawlins  5836068      US     41.79    -107.24        34.93   \n",
       "593      nanortalik  3421765      GL     60.14     -45.24        26.51   \n",
       "594          inuvik  5983607      CA     68.35    -133.72       -37.26   \n",
       "\n",
       "     Humidity  Cloudiness  Wind Speed  \n",
       "0          69          20        4.70  \n",
       "1          85          99        2.80  \n",
       "2          64           0       10.67  \n",
       "3          77         100        8.01  \n",
       "4          84          14       15.75  \n",
       "..        ...         ...         ...  \n",
       "590        87           0        2.24  \n",
       "591        20           0        8.68  \n",
       "592        59          75       21.92  \n",
       "593        97         100       11.21  \n",
       "594        65           8        2.24  \n",
       "\n",
       "[595 rows x 9 columns]"
      ]
     },
     "execution_count": 8,
     "metadata": {},
     "output_type": "execute_result"
    }
   ],
   "source": [
    "dict_weather = {\n",
    "    'City': cities_found,\n",
    "    'City ID' : city_ID,\n",
    "    'Country' : countries,\n",
    "    'Latitude' : latitudes,\n",
    "    'Longitude' : longitudes,\n",
    "    'Temperature' : temperatures,\n",
    "    'Humidity' : humidities,\n",
    "    'Cloudiness' : cloudinesses,\n",
    "    'Wind Speed' : wind_speeds,\n",
    "}\n",
    "\n",
    "weather_data = pd.DataFrame(dict_weather)\n",
    "\n",
    "weather_data"
   ]
  },
  {
   "cell_type": "code",
   "execution_count": 9,
   "metadata": {},
   "outputs": [],
   "source": [
    "weather_data.to_csv(\"weather.csv\", index=False, header=True)"
   ]
  },
  {
   "cell_type": "markdown",
   "metadata": {},
   "source": [
    "### Convert Raw Data to DataFrame\n",
    "* Export the city data into a .csv.\n",
    "* Display the DataFrame\n",
    "weather_data.to_csv(\"weather.csv\", index=False, header=True)"
   ]
  },
  {
   "cell_type": "code",
   "execution_count": 10,
   "metadata": {},
   "outputs": [],
   "source": [
    "weather_data = weather_data[weather_data['Humidity'] <= 100]"
   ]
  },
  {
   "cell_type": "code",
   "execution_count": 11,
   "metadata": {},
   "outputs": [
    {
     "data": {
      "text/html": [
       "<div>\n",
       "<style scoped>\n",
       "    .dataframe tbody tr th:only-of-type {\n",
       "        vertical-align: middle;\n",
       "    }\n",
       "\n",
       "    .dataframe tbody tr th {\n",
       "        vertical-align: top;\n",
       "    }\n",
       "\n",
       "    .dataframe thead th {\n",
       "        text-align: right;\n",
       "    }\n",
       "</style>\n",
       "<table border=\"1\" class=\"dataframe\">\n",
       "  <thead>\n",
       "    <tr style=\"text-align: right;\">\n",
       "      <th></th>\n",
       "      <th>City</th>\n",
       "      <th>City ID</th>\n",
       "      <th>Country</th>\n",
       "      <th>Latitude</th>\n",
       "      <th>Longitude</th>\n",
       "      <th>Temperature</th>\n",
       "      <th>Humidity</th>\n",
       "      <th>Cloudiness</th>\n",
       "      <th>Wind Speed</th>\n",
       "    </tr>\n",
       "  </thead>\n",
       "  <tbody>\n",
       "    <tr>\n",
       "      <th>0</th>\n",
       "      <td>saint-philippe</td>\n",
       "      <td>935215</td>\n",
       "      <td>RE</td>\n",
       "      <td>-21.36</td>\n",
       "      <td>55.77</td>\n",
       "      <td>71.64</td>\n",
       "      <td>69</td>\n",
       "      <td>20</td>\n",
       "      <td>4.70</td>\n",
       "    </tr>\n",
       "    <tr>\n",
       "      <th>1</th>\n",
       "      <td>latisana</td>\n",
       "      <td>3175055</td>\n",
       "      <td>IT</td>\n",
       "      <td>45.78</td>\n",
       "      <td>13.00</td>\n",
       "      <td>46.69</td>\n",
       "      <td>85</td>\n",
       "      <td>99</td>\n",
       "      <td>2.80</td>\n",
       "    </tr>\n",
       "    <tr>\n",
       "      <th>2</th>\n",
       "      <td>chuy</td>\n",
       "      <td>3443061</td>\n",
       "      <td>UY</td>\n",
       "      <td>-33.70</td>\n",
       "      <td>-53.46</td>\n",
       "      <td>60.33</td>\n",
       "      <td>64</td>\n",
       "      <td>0</td>\n",
       "      <td>10.67</td>\n",
       "    </tr>\n",
       "    <tr>\n",
       "      <th>3</th>\n",
       "      <td>mataura</td>\n",
       "      <td>6201424</td>\n",
       "      <td>NZ</td>\n",
       "      <td>-46.19</td>\n",
       "      <td>168.86</td>\n",
       "      <td>60.01</td>\n",
       "      <td>77</td>\n",
       "      <td>100</td>\n",
       "      <td>8.01</td>\n",
       "    </tr>\n",
       "    <tr>\n",
       "      <th>4</th>\n",
       "      <td>egvekinot</td>\n",
       "      <td>4031742</td>\n",
       "      <td>RU</td>\n",
       "      <td>66.32</td>\n",
       "      <td>-179.17</td>\n",
       "      <td>-16.29</td>\n",
       "      <td>84</td>\n",
       "      <td>14</td>\n",
       "      <td>15.75</td>\n",
       "    </tr>\n",
       "    <tr>\n",
       "      <th>...</th>\n",
       "      <td>...</td>\n",
       "      <td>...</td>\n",
       "      <td>...</td>\n",
       "      <td>...</td>\n",
       "      <td>...</td>\n",
       "      <td>...</td>\n",
       "      <td>...</td>\n",
       "      <td>...</td>\n",
       "      <td>...</td>\n",
       "    </tr>\n",
       "    <tr>\n",
       "      <th>590</th>\n",
       "      <td>yarada</td>\n",
       "      <td>1252783</td>\n",
       "      <td>IN</td>\n",
       "      <td>17.65</td>\n",
       "      <td>83.27</td>\n",
       "      <td>60.80</td>\n",
       "      <td>87</td>\n",
       "      <td>0</td>\n",
       "      <td>2.24</td>\n",
       "    </tr>\n",
       "    <tr>\n",
       "      <th>591</th>\n",
       "      <td>tari</td>\n",
       "      <td>2322495</td>\n",
       "      <td>NG</td>\n",
       "      <td>12.41</td>\n",
       "      <td>4.49</td>\n",
       "      <td>74.03</td>\n",
       "      <td>20</td>\n",
       "      <td>0</td>\n",
       "      <td>8.68</td>\n",
       "    </tr>\n",
       "    <tr>\n",
       "      <th>592</th>\n",
       "      <td>rawlins</td>\n",
       "      <td>5836068</td>\n",
       "      <td>US</td>\n",
       "      <td>41.79</td>\n",
       "      <td>-107.24</td>\n",
       "      <td>34.93</td>\n",
       "      <td>59</td>\n",
       "      <td>75</td>\n",
       "      <td>21.92</td>\n",
       "    </tr>\n",
       "    <tr>\n",
       "      <th>593</th>\n",
       "      <td>nanortalik</td>\n",
       "      <td>3421765</td>\n",
       "      <td>GL</td>\n",
       "      <td>60.14</td>\n",
       "      <td>-45.24</td>\n",
       "      <td>26.51</td>\n",
       "      <td>97</td>\n",
       "      <td>100</td>\n",
       "      <td>11.21</td>\n",
       "    </tr>\n",
       "    <tr>\n",
       "      <th>594</th>\n",
       "      <td>inuvik</td>\n",
       "      <td>5983607</td>\n",
       "      <td>CA</td>\n",
       "      <td>68.35</td>\n",
       "      <td>-133.72</td>\n",
       "      <td>-37.26</td>\n",
       "      <td>65</td>\n",
       "      <td>8</td>\n",
       "      <td>2.24</td>\n",
       "    </tr>\n",
       "  </tbody>\n",
       "</table>\n",
       "<p>595 rows × 9 columns</p>\n",
       "</div>"
      ],
      "text/plain": [
       "               City  City ID Country  Latitude  Longitude  Temperature  \\\n",
       "0    saint-philippe   935215      RE    -21.36      55.77        71.64   \n",
       "1          latisana  3175055      IT     45.78      13.00        46.69   \n",
       "2              chuy  3443061      UY    -33.70     -53.46        60.33   \n",
       "3           mataura  6201424      NZ    -46.19     168.86        60.01   \n",
       "4         egvekinot  4031742      RU     66.32    -179.17       -16.29   \n",
       "..              ...      ...     ...       ...        ...          ...   \n",
       "590          yarada  1252783      IN     17.65      83.27        60.80   \n",
       "591            tari  2322495      NG     12.41       4.49        74.03   \n",
       "592         rawlins  5836068      US     41.79    -107.24        34.93   \n",
       "593      nanortalik  3421765      GL     60.14     -45.24        26.51   \n",
       "594          inuvik  5983607      CA     68.35    -133.72       -37.26   \n",
       "\n",
       "     Humidity  Cloudiness  Wind Speed  \n",
       "0          69          20        4.70  \n",
       "1          85          99        2.80  \n",
       "2          64           0       10.67  \n",
       "3          77         100        8.01  \n",
       "4          84          14       15.75  \n",
       "..        ...         ...         ...  \n",
       "590        87           0        2.24  \n",
       "591        20           0        8.68  \n",
       "592        59          75       21.92  \n",
       "593        97         100       11.21  \n",
       "594        65           8        2.24  \n",
       "\n",
       "[595 rows x 9 columns]"
      ]
     },
     "execution_count": 11,
     "metadata": {},
     "output_type": "execute_result"
    }
   ],
   "source": [
    "weather_data"
   ]
  },
  {
   "cell_type": "markdown",
   "metadata": {},
   "source": [
    "## Inspect the data and remove the cities where the humidity > 100%.\n",
    "----\n",
    "Skip this step if there are no cities that have humidity > 100%. "
   ]
  },
  {
   "cell_type": "code",
   "execution_count": null,
   "metadata": {},
   "outputs": [],
   "source": []
  },
  {
   "cell_type": "code",
   "execution_count": 12,
   "metadata": {},
   "outputs": [],
   "source": [
    "#  Get the indices of cities that have humidity over 100%.\n"
   ]
  },
  {
   "cell_type": "code",
   "execution_count": 13,
   "metadata": {},
   "outputs": [],
   "source": [
    "# Make a new DataFrame equal to the city data to drop all humidity outliers by index.\n",
    "# Passing \"inplace=False\" will make a copy of the city_data DataFrame, which we call \"clean_city_data\".\n"
   ]
  },
  {
   "cell_type": "code",
   "execution_count": null,
   "metadata": {},
   "outputs": [],
   "source": [
    "\n"
   ]
  },
  {
   "cell_type": "markdown",
   "metadata": {},
   "source": [
    "## Plotting the Data\n",
    "* Use proper labeling of the plots using plot titles (including date of analysis) and axes labels.\n",
    "* Save the plotted figures as .pngs."
   ]
  },
  {
   "cell_type": "markdown",
   "metadata": {},
   "source": [
    "## Latitude vs. Temperature Plot"
   ]
  },
  {
   "cell_type": "code",
   "execution_count": 67,
   "metadata": {
    "scrolled": true
   },
   "outputs": [
    {
     "data": {
      "image/png": "[encoded data removed]",
      "text/plain": [
       "<Figure size 432x288 with 1 Axes>"
      ]
     },
     "metadata": {
      "needs_background": "light"
     },
     "output_type": "display_data"
    }
   ],
   "source": [
    "plt.scatter(weather_data['Latitude'], weather_data['Temperature'])\n",
    "plt.xlabel('Latitude')\n",
    "plt.ylabel('Temperature (F)')\n",
    "plt.title('City Latitude vs Temperature')\n",
    "plt.grid()\n",
    "plt.savefig('graphs/latitude_vs_temperature.png')\n",
    "plt.show()"
   ]
  },
  {
   "cell_type": "markdown",
   "metadata": {},
   "source": [
    "## Latitude vs. Humidity Plot"
   ]
  },
  {
   "cell_type": "code",
   "execution_count": 80,
   "metadata": {},
   "outputs": [
    {
     "data": {
      "image/png": "[encoded data removed]",
      "text/plain": [
       "<Figure size 432x288 with 1 Axes>"
      ]
     },
     "metadata": {
      "needs_background": "light"
     },
     "output_type": "display_data"
    }
   ],
   "source": [
    "plt.scatter(weather_data['Latitude'], weather_data['Humidity'])\n",
    "plt.xlabel('Latitude')\n",
    "plt.ylabel('Humidity (%)')\n",
    "plt.title('City Latitude vs Humidity')\n",
    "plt.grid()\n",
    "plt.savefig('graphs/latitude_vs_humidity.png')\n",
    "plt.show()"
   ]
  },
  {
   "cell_type": "markdown",
   "metadata": {},
   "source": [
    "## Latitude vs. Cloudiness Plot"
   ]
  },
  {
   "cell_type": "code",
   "execution_count": 81,
   "metadata": {},
   "outputs": [
    {
     "data": {
      "image/png": "[encoded data removed]",
      "text/plain": [
       "<Figure size 432x288 with 1 Axes>"
      ]
     },
     "metadata": {
      "needs_background": "light"
     },
     "output_type": "display_data"
    }
   ],
   "source": [
    "plt.scatter(weather_data['Latitude'], weather_data['Cloudiness'])\n",
    "plt.xlabel('Latitude')\n",
    "plt.ylabel('Cloudiness (%)')\n",
    "plt.title('City Latitude vs Cloudiness')\n",
    "plt.grid()\n",
    "plt.savefig('graphs/latitude_vs_cloudiness.png')\n",
    "plt.show()"
   ]
  },
  {
   "cell_type": "markdown",
   "metadata": {},
   "source": [
    "## Latitude vs. Wind Speed Plot"
   ]
  },
  {
   "cell_type": "code",
   "execution_count": 82,
   "metadata": {},
   "outputs": [
    {
     "data": {
      "image/png": "[encoded data removed]",
      "text/plain": [
       "<Figure size 432x288 with 1 Axes>"
      ]
     },
     "metadata": {
      "needs_background": "light"
     },
     "output_type": "display_data"
    }
   ],
   "source": [
    "plt.scatter(weather_data['Latitude'], weather_data['Wind Speed'])\n",
    "plt.xlabel('Latitude')\n",
    "plt.ylabel('Wind Speed (mph)')\n",
    "plt.title('City Latitude vs Wind Speed')\n",
    "plt.grid()\n",
    "plt.savefig('graphs/latitude_vs_windspeed.png')\n",
    "plt.show()"
   ]
  },
  {
   "cell_type": "markdown",
   "metadata": {},
   "source": [
    "## Linear Regression"
   ]
  },
  {
   "cell_type": "code",
   "execution_count": 18,
   "metadata": {},
   "outputs": [],
   "source": [
    "north_data = weather_data[weather_data['Latitude'] > 0]\n",
    "south_data = weather_data[weather_data['Latitude'] < 0]\n",
    "\n"
   ]
  },
  {
   "cell_type": "markdown",
   "metadata": {},
   "source": [
    "####  Northern Hemisphere - Max Temp vs. Latitude Linear Regression"
   ]
  },
  {
   "cell_type": "code",
   "execution_count": 72,
   "metadata": {},
   "outputs": [
    {
     "name": "stdout",
     "output_type": "stream",
     "text": [
      "The r-value is : -0.853197623871405\n"
     ]
    },
    {
     "data": {
      "image/png": "[encoded data removed]",
      "text/plain": [
       "<Figure size 432x288 with 1 Axes>"
      ]
     },
     "metadata": {
      "needs_background": "light"
     },
     "output_type": "display_data"
    }
   ],
   "source": [
    "plt.scatter(north_data['Latitude'], north_data['Temperature'])\n",
    "(slope, intercept, rvalue, pvalue, stderr) = linregress(north_data['Latitude'], north_data['Temperature'])\n",
    "regress_values = north_data['Latitude'] * slope + intercept\n",
    "line_eq = \"y = \" + str(round(slope,2)) + \"x + \" + str(round(intercept,2))\n",
    "plt.xlabel('Latitude')\n",
    "plt.ylabel('Temperature (F)')\n",
    "plt.plot(north_data['Latitude'], regress_values,\"r-\")\n",
    "plt.annotate(line_eq,(0,-10),fontsize=15,color=\"red\")\n",
    "plt.title('City Latitude vs Temperature for Northern Hemisphere')\n",
    "print(f'The r-value is : {rvalue}')\n",
    "plt.savefig('graphs/latitude_vs_temp_north.png')\n",
    "plt.show()\n",
    "\n",
    "#This linear regression shows the general trend of the relationship between temperature and latitude\n",
    "# for the Northern hemisphere"
   ]
  },
  {
   "cell_type": "markdown",
   "metadata": {},
   "source": [
    "####  Southern Hemisphere - Max Temp vs. Latitude Linear Regression"
   ]
  },
  {
   "cell_type": "code",
   "execution_count": 73,
   "metadata": {},
   "outputs": [
    {
     "name": "stdout",
     "output_type": "stream",
     "text": [
      "The r-value is : 0.6211104008895895\n"
     ]
    },
    {
     "data": {
      "image/png": "[encoded data removed]",
      "text/plain": [
       "<Figure size 432x288 with 1 Axes>"
      ]
     },
     "metadata": {
      "needs_background": "light"
     },
     "output_type": "display_data"
    }
   ],
   "source": [
    "plt.scatter(south_data['Latitude'], south_data['Temperature'])\n",
    "(slope, intercept, rvalue, pvalue, stderr) = linregress(south_data['Latitude'], south_data['Temperature'])\n",
    "regress_values = south_data['Latitude'] * slope + intercept\n",
    "line_eq = \"y = \" + str(round(slope,2)) + \"x + \" + str(round(intercept,2))\n",
    "plt.xlabel('Latitude')\n",
    "plt.ylabel('Temperature (F)')\n",
    "plt.plot(south_data['Latitude'], regress_values,\"r-\")\n",
    "plt.annotate(line_eq,(-55,85),fontsize=15,color=\"red\")\n",
    "plt.title('City Latitude vs Temperature for Southern Hemisphere')\n",
    "print(f'The r-value is : {rvalue}')\n",
    "plt.savefig('graphs/latitude_vs_temp_south.png')\n",
    "plt.show()\n",
    "\n",
    "#This linear regression shows the general trend of the relationship between temperature and latitude\n",
    "# for the Southern hemisphere"
   ]
  },
  {
   "cell_type": "markdown",
   "metadata": {},
   "source": [
    "####  Northern Hemisphere - Humidity (%) vs. Latitude Linear Regression"
   ]
  },
  {
   "cell_type": "code",
   "execution_count": 74,
   "metadata": {},
   "outputs": [
    {
     "name": "stdout",
     "output_type": "stream",
     "text": [
      "The r-value is : 0.28204646944523104\n"
     ]
    },
    {
     "data": {
      "image/png": "[encoded data removed]",
      "text/plain": [
       "<Figure size 432x288 with 1 Axes>"
      ]
     },
     "metadata": {
      "needs_background": "light"
     },
     "output_type": "display_data"
    }
   ],
   "source": [
    "plt.scatter(north_data['Latitude'], north_data['Humidity'])\n",
    "(slope, intercept, rvalue, pvalue, stderr) = linregress(north_data['Latitude'], north_data['Humidity'])\n",
    "regress_values = north_data['Latitude'] * slope + intercept\n",
    "line_eq = \"y = \" + str(round(slope,2)) + \"x + \" + str(round(intercept,2))\n",
    "plt.plot(north_data['Latitude'], regress_values,\"r-\")\n",
    "plt.annotate(line_eq,(45,10),fontsize=15,color=\"red\")\n",
    "plt.xlabel('Latitude')\n",
    "plt.ylabel('Humidity (%)')\n",
    "plt.title('City Latitude vs Humidity for Northern Hemisphere')\n",
    "print(f'The r-value is : {rvalue}')\n",
    "plt.savefig('graphs/latitude_vs_humidity_north.png')\n",
    "plt.show()\n",
    "\n",
    "#This linear regression shows the general trend of the relationship between Humidity and latitude\n",
    "# for the Northern hemisphere"
   ]
  },
  {
   "cell_type": "markdown",
   "metadata": {},
   "source": [
    "####  Southern Hemisphere - Humidity (%) vs. Latitude Linear Regression"
   ]
  },
  {
   "cell_type": "code",
   "execution_count": 75,
   "metadata": {},
   "outputs": [
    {
     "name": "stdout",
     "output_type": "stream",
     "text": [
      "The r-value is : 0.28525137092104\n"
     ]
    },
    {
     "data": {
      "image/png": "[encoded data removed]",
      "text/plain": [
       "<Figure size 432x288 with 1 Axes>"
      ]
     },
     "metadata": {
      "needs_background": "light"
     },
     "output_type": "display_data"
    }
   ],
   "source": [
    "plt.scatter(south_data['Latitude'], south_data['Humidity'])\n",
    "(slope, intercept, rvalue, pvalue, stderr) = linregress(south_data['Latitude'], south_data['Humidity'])\n",
    "regress_values = south_data['Latitude'] * slope + intercept\n",
    "line_eq = \"y = \" + str(round(slope,2)) + \"x + \" + str(round(intercept,2))\n",
    "plt.plot(south_data['Latitude'], regress_values,\"r-\")\n",
    "plt.annotate(line_eq,(-25,30),fontsize=15,color=\"red\")\n",
    "plt.xlabel('Latitude')\n",
    "plt.ylabel('Humidity (%)')\n",
    "plt.title('City Latitude vs Humidity for Southern Hemisphere')\n",
    "print(f'The r-value is : {rvalue}')\n",
    "plt.savefig('graphs/latitude_vs_humidity_south.png')\n",
    "plt.show()\n",
    "\n",
    "#This linear regression shows the general trend of the relationship between humidity and latitude\n",
    "# for the Southern hemisphere"
   ]
  },
  {
   "cell_type": "markdown",
   "metadata": {},
   "source": [
    "####  Northern Hemisphere - Cloudiness (%) vs. Latitude Linear Regression"
   ]
  },
  {
   "cell_type": "code",
   "execution_count": 76,
   "metadata": {},
   "outputs": [
    {
     "name": "stdout",
     "output_type": "stream",
     "text": [
      "The r-value is : 0.198437893750937\n"
     ]
    },
    {
     "data": {
      "image/png": "[encoded data removed]",
      "text/plain": [
       "<Figure size 432x288 with 1 Axes>"
      ]
     },
     "metadata": {
      "needs_background": "light"
     },
     "output_type": "display_data"
    }
   ],
   "source": [
    "plt.scatter(north_data['Latitude'], north_data['Cloudiness'])\n",
    "(slope, intercept, rvalue, pvalue, stderr) = linregress(north_data['Latitude'], north_data['Cloudiness'])\n",
    "regress_values = north_data['Latitude'] * slope + intercept\n",
    "line_eq = \"y = \" + str(round(slope,2)) + \"x + \" + str(round(intercept,2))\n",
    "plt.plot(north_data['Latitude'], regress_values,\"r-\")\n",
    "plt.annotate(line_eq,(45,10),fontsize=15,color=\"red\")\n",
    "plt.xlabel('Latitude')\n",
    "plt.ylabel('Cloudiness')\n",
    "plt.title('City Latitude vs Cloudiness for Northern Hemisphere')\n",
    "print(f'The r-value is : {rvalue}')\n",
    "plt.savefig('graphs/latitude_vs_cloudiness_north.png')\n",
    "plt.show()\n",
    "\n",
    "#This linear regression shows the general trend of the relationship between cloudiness and latitude\n",
    "# for the Northern hemisphere"
   ]
  },
  {
   "cell_type": "markdown",
   "metadata": {},
   "source": [
    "####  Southern Hemisphere - Cloudiness (%) vs. Latitude Linear Regression"
   ]
  },
  {
   "cell_type": "code",
   "execution_count": 77,
   "metadata": {},
   "outputs": [
    {
     "name": "stdout",
     "output_type": "stream",
     "text": [
      "The r-value is : 0.10204128756292073\n"
     ]
    },
    {
     "data": {
      "image/png": "[encoded data removed]",
      "text/plain": [
       "<Figure size 432x288 with 1 Axes>"
      ]
     },
     "metadata": {
      "needs_background": "light"
     },
     "output_type": "display_data"
    }
   ],
   "source": [
    "plt.scatter(south_data['Latitude'], south_data['Cloudiness'])\n",
    "(slope, intercept, rvalue, pvalue, stderr) = linregress(south_data['Latitude'], south_data['Cloudiness'])\n",
    "regress_values = south_data['Latitude'] * slope + intercept\n",
    "line_eq = \"y = \" + str(round(slope,2)) + \"x + \" + str(round(intercept,2))\n",
    "plt.plot(south_data['Latitude'], regress_values,\"r-\")\n",
    "plt.annotate(line_eq,(-50,10),fontsize=15,color=\"red\")\n",
    "plt.xlabel('Latitude')\n",
    "plt.ylabel('Cloudiness')\n",
    "plt.title('City Latitude vs Cloudiness for Southern Hemisphere')\n",
    "print(f'The r-value is : {rvalue}')\n",
    "\n",
    "plt.savefig('graphs/latitude_vs_cloudiness_south.png')\n",
    "plt.show()\n",
    "\n",
    "#This linear regression shows the general trend of the relationship between cloudiness and latitude\n",
    "# for the Southern hemisphere"
   ]
  },
  {
   "cell_type": "markdown",
   "metadata": {},
   "source": [
    "####  Northern Hemisphere - Wind Speed (mph) vs. Latitude Linear Regression"
   ]
  },
  {
   "cell_type": "code",
   "execution_count": 78,
   "metadata": {},
   "outputs": [
    {
     "name": "stdout",
     "output_type": "stream",
     "text": [
      "The r-value is : 0.11686606271906338\n"
     ]
    },
    {
     "data": {
      "image/png": "[encoded data removed]",
      "text/plain": [
       "<Figure size 432x288 with 1 Axes>"
      ]
     },
     "metadata": {
      "needs_background": "light"
     },
     "output_type": "display_data"
    }
   ],
   "source": [
    "plt.scatter(north_data['Latitude'], north_data['Wind Speed'])\n",
    "(slope, intercept, rvalue, pvalue, stderr) = linregress(north_data['Latitude'], north_data['Wind Speed'])\n",
    "regress_values = north_data['Latitude'] * slope + intercept\n",
    "line_eq = \"y = \" + str(round(slope,2)) + \"x + \" + str(round(intercept,2))\n",
    "plt.plot(north_data['Latitude'], regress_values,\"r-\")\n",
    "plt.annotate(line_eq,(5,35),fontsize=15,color=\"red\")\n",
    "plt.xlabel('Latitude')\n",
    "plt.ylabel('Wind Speed (mph)')\n",
    "plt.title('City Latitude vs Wind Speed for Northern Hemisphere')\n",
    "print(f'The r-value is : {rvalue}')\n",
    "plt.savefig('graphs/latitude_vs_windspeed_north.png')\n",
    "plt.show()\n",
    "\n",
    "#This linear regression shows the general trend of the relationship between wind speed and latitude\n",
    "# for the Northern hemisphere"
   ]
  },
  {
   "cell_type": "code",
   "execution_count": null,
   "metadata": {},
   "outputs": [],
   "source": []
  },
  {
   "cell_type": "markdown",
   "metadata": {},
   "source": [
    "####  Southern Hemisphere - Wind Speed (mph) vs. Latitude Linear Regression"
   ]
  },
  {
   "cell_type": "code",
   "execution_count": 79,
   "metadata": {},
   "outputs": [
    {
     "name": "stdout",
     "output_type": "stream",
     "text": [
      "The r-value is : -0.3614752013346773\n"
     ]
    },
    {
     "data": {
      "image/png": "[encoded data removed]",
      "text/plain": [
       "<Figure size 432x288 with 1 Axes>"
      ]
     },
     "metadata": {
      "needs_background": "light"
     },
     "output_type": "display_data"
    }
   ],
   "source": [
    "plt.scatter(south_data['Latitude'], south_data['Wind Speed'])\n",
    "(slope, intercept, rvalue, pvalue, stderr) = linregress(south_data['Latitude'], south_data['Wind Speed'])\n",
    "regress_values = south_data['Latitude'] * slope + intercept\n",
    "line_eq = \"y = \" + str(round(slope,2)) + \"x + \" + str(round(intercept,2))\n",
    "plt.plot(south_data['Latitude'], regress_values,\"r-\")\n",
    "plt.annotate(line_eq,(-35,35),fontsize=15,color=\"red\")\n",
    "plt.xlabel('Latitude')\n",
    "plt.ylabel('Wind Speed (mph)')\n",
    "plt.title('City Latitude vs Wind Speed for Southern Hemisphere')\n",
    "print(f'The r-value is : {rvalue}')\n",
    "plt.savefig('graphs/latitude_vs_windspeed_south.png')\n",
    "plt.show()\n",
    "\n",
    "#This linear regression shows the general trend of the relationship between wind speed and latitude\n",
    "# for the Southern hemisphere"
   ]
  },
  {
   "cell_type": "code",
   "execution_count": null,
   "metadata": {},
   "outputs": [],
   "source": []
  },
  {
   "cell_type": "code",
   "execution_count": null,
   "metadata": {},
   "outputs": [],
   "source": []
  },
  {
   "cell_type": "code",
   "execution_count": null,
   "metadata": {},
   "outputs": [],
   "source": []
  },
  {
   "cell_type": "code",
   "execution_count": null,
   "metadata": {},
   "outputs": [],
   "source": []
  }
 ],
 "metadata": {
  "anaconda-cloud": {},
  "kernel_info": {
   "name": "python3"
  },
  "kernelspec": {
   "display_name": "Python 3",
   "language": "python",
   "name": "python3"
  },
  "language_info": {
   "codemirror_mode": {
    "name": "ipython",
    "version": 3
   },
   "file_extension": ".py",
   "mimetype": "text/x-python",
   "name": "python",
   "nbconvert_exporter": "python",
   "pygments_lexer": "ipython3",
   "version": "3.8.5"
  },
  "latex_envs": {
   "LaTeX_envs_menu_present": true,
   "autoclose": false,
   "autocomplete": true,
   "bibliofile": "biblio.bib",
   "cite_by": "apalike",
   "current_citInitial": 1,
   "eqLabelWithNumbers": true,
   "eqNumInitial": 1,
   "hotkeys": {
    "equation": "Ctrl-E",
    "itemize": "Ctrl-I"
   },
   "labels_anchors": false,
   "latex_user_defs": false,
   "report_style_numbering": false,
   "user_envs_cfg": false
  },
  "nteract": {
   "version": "0.12.3"
  }
 },
 "nbformat": 4,
 "nbformat_minor": 2
}
