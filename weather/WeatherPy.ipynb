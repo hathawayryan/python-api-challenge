{
 "cells": [
  {
   "cell_type": "markdown",
   "metadata": {},
   "source": [
    "# WeatherPy\n",
    "----\n",
    "\n",
    "#### Note\n",
    "* Instructions have been included for each segment. You do not have to follow them exactly, but they are included to help you think through the steps."
   ]
  },
  {
   "cell_type": "code",
   "execution_count": 1,
   "metadata": {},
   "outputs": [
    {
     "data": {
      "text/plain": [
       "'\\nThere are a few trends that can be observed from the data shown below. For one, temperature appears to \\ngenerally trend higher the closer the latitude is to 0. When latitude goes closer to +60 or -60, the temperature tends\\nto go down. Another trend that can be noticed is that humidity tends to be higher further north. This is shown in the \\ngraphs for humidity vs laditude for both the northern and southern hemispheres, where a latitude of about -60 shows low \\nhumidity, latitudes of around 0 shows somewhat higher humidity, and latitudes closer to 60 tend to be the highest. \\nOne final trend that can be seen is that generally the further north a city is, the more cloudy it will be. \\nOne thing to note about this trend, however, is that it is a pretty weak trend, with a low r-value; even looking at \\nthe scatter plot it looks fairly random.\\n'"
      ]
     },
     "execution_count": 1,
     "metadata": {},
     "output_type": "execute_result"
    }
   ],
   "source": [
    "'''\n",
    "There are a few trends that can be observed from the data shown below. For one, temperature appears to \n",
    "generally trend higher the closer the latitude is to 0. When latitude goes closer to +60 or -60, the temperature tends\n",
    "to go down. Another trend that can be noticed is that humidity tends to be higher further north. This is shown in the \n",
    "graphs for humidity vs laditude for both the northern and southern hemispheres, where a latitude of about -60 shows low \n",
    "humidity, latitudes of around 0 shows somewhat higher humidity, and latitudes closer to 60 tend to be the highest. \n",
    "One final trend that can be seen is that generally the further north a city is, the more cloudy it will be. \n",
    "One thing to note about this trend, however, is that it is a pretty weak trend, with a low r-value; even looking at \n",
    "the scatter plot it looks fairly random.\n",
    "'''\n"
   ]
  },
  {
   "cell_type": "code",
   "execution_count": 2,
   "metadata": {
    "scrolled": true
   },
   "outputs": [],
   "source": [
    "# Dependencies and Setup\n",
    "import matplotlib.pyplot as plt\n",
    "import pandas as pd\n",
    "import numpy as np\n",
    "import requests\n",
    "import time\n",
    "import json\n",
    "from scipy.stats import linregress\n",
    "\n",
    "# Import API key\n",
    "from api_keys import weather_api_key\n",
    "\n",
    "# Incorporated citipy to determine city based on latitude and longitude\n",
    "from citipy import citipy\n",
    "\n",
    "# Output File (CSV)\n",
    "output_data_file = \"output_data/cities.csv\"\n",
    "\n",
    "# Range of latitudes and longitudes\n",
    "lat_range = (-90, 90)\n",
    "lng_range = (-180, 180)\n",
    "\n"
   ]
  },
  {
   "cell_type": "markdown",
   "metadata": {},
   "source": [
    "## Generate Cities List"
   ]
  },
  {
   "cell_type": "code",
   "execution_count": 3,
   "metadata": {},
   "outputs": [
    {
     "data": {
      "text/plain": [
       "636"
      ]
     },
     "execution_count": 3,
     "metadata": {},
     "output_type": "execute_result"
    }
   ],
   "source": [
    "# List for holding lat_lngs and cities\n",
    "lat_lngs = []\n",
    "cities = []\n",
    "\n",
    "# Create a set of random lat and lng combinations\n",
    "lats = np.random.uniform(lat_range[0], lat_range[1], size=1500)\n",
    "lngs = np.random.uniform(lng_range[0], lng_range[1], size=1500)\n",
    "lat_lngs = zip(lats, lngs)\n",
    "\n",
    "# Identify nearest city for each lat, lng combination\n",
    "for lat_lng in lat_lngs:\n",
    "    city = citipy.nearest_city(lat_lng[0], lat_lng[1]).city_name\n",
    "    \n",
    "    # If the city is unique, then add it to a our cities list\n",
    "    if city not in cities:\n",
    "        cities.append(city)\n",
    "\n",
    "# Print the city count to confirm sufficient count\n",
    "len(cities)"
   ]
  },
  {
   "cell_type": "markdown",
   "metadata": {},
   "source": [
    "### Perform API Calls\n",
    "* Perform a weather check on each city using a series of successive API calls.\n",
    "* Include a print log of each city as it'sbeing processed (with the city number and city name).\n"
   ]
  },
  {
   "cell_type": "code",
   "execution_count": 4,
   "metadata": {},
   "outputs": [
    {
     "name": "stdout",
     "output_type": "stream",
     "text": [
      "37b70d4776930464ee4a96e36cd960be\n"
     ]
    }
   ],
   "source": [
    "print(weather_api_key)"
   ]
  },
  {
   "cell_type": "code",
   "execution_count": 5,
   "metadata": {
    "scrolled": true
   },
   "outputs": [
    {
     "data": {
      "text/plain": [
       "{'coord': {'lon': -0.13, 'lat': 51.51},\n",
       " 'weather': [{'id': 804,\n",
       "   'main': 'Clouds',\n",
       "   'description': 'overcast clouds',\n",
       "   'icon': '04n'}],\n",
       " 'base': 'stations',\n",
       " 'main': {'temp': 46.35,\n",
       "  'feels_like': 41.65,\n",
       "  'temp_min': 44.01,\n",
       "  'temp_max': 48.2,\n",
       "  'pressure': 1014,\n",
       "  'humidity': 81},\n",
       " 'visibility': 10000,\n",
       " 'wind': {'speed': 4.7, 'deg': 180},\n",
       " 'clouds': {'all': 100},\n",
       " 'dt': 1608516575,\n",
       " 'sys': {'type': 1,\n",
       "  'id': 1414,\n",
       "  'country': 'GB',\n",
       "  'sunrise': 1608537843,\n",
       "  'sunset': 1608566007},\n",
       " 'timezone': 0,\n",
       " 'id': 2643743,\n",
       " 'name': 'London',\n",
       " 'cod': 200}"
      ]
     },
     "execution_count": 5,
     "metadata": {},
     "output_type": "execute_result"
    }
   ],
   "source": [
    "cities_found = []\n",
    "countries = []\n",
    "latitudes = []\n",
    "longitudes = []\n",
    "city_ID = []\n",
    "temperatures = []\n",
    "humidities = []\n",
    "cloudinesses = []\n",
    "wind_speeds = []\n",
    "\n",
    "url = f'http://api.openweathermap.org/data/2.5/weather?q=london&appid={weather_api_key}&units=imperial' \n",
    "weather_response = requests.get(url).json()\n",
    "\n",
    "#print(json.dumps(weather_response, indent=4, sort_keys=True))\n",
    "weather_response\n",
    "\n",
    "\n"
   ]
  },
  {
   "cell_type": "code",
   "execution_count": 6,
   "metadata": {},
   "outputs": [
    {
     "name": "stdout",
     "output_type": "stream",
     "text": [
      "Processing weather data for itoman, city ID: 1861280\n",
      "Processing weather data for busselton, city ID: 2075265\n",
      "Processing weather data for paamiut, city ID: 3421193\n",
      "Processing weather data for chokurdakh, city ID: 2126123\n",
      "barentsburg not found...skipping\n",
      "Processing weather data for ushuaia, city ID: 3833367\n",
      "Processing weather data for kavieng, city ID: 2094342\n",
      "Processing weather data for punta arenas, city ID: 3874787\n",
      "Processing weather data for tazovskiy, city ID: 1489853\n",
      "Processing weather data for plettenberg bay, city ID: 964712\n",
      "Processing weather data for clyde river, city ID: 5924351\n",
      "Processing weather data for torbay, city ID: 6167817\n",
      "Processing weather data for butaritari, city ID: 2110227\n",
      "Processing weather data for thompson, city ID: 6165406\n",
      "Processing weather data for isangel, city ID: 2136825\n",
      "Processing weather data for luan, city ID: 2659977\n",
      "Processing weather data for kodiak, city ID: 5866583\n",
      "Processing weather data for ramshir, city ID: 118805\n",
      "Processing weather data for severo-kurilsk, city ID: 2121385\n",
      "sentyabrskiy not found...skipping\n",
      "Processing weather data for yulara, city ID: 6355222\n",
      "Processing weather data for carnarvon, city ID: 2074865\n",
      "Processing weather data for port blair, city ID: 1259385\n",
      "Processing weather data for xam nua, city ID: 1652203\n",
      "Processing weather data for ust-nera, city ID: 2120048\n",
      "Processing weather data for albany, city ID: 5106841\n",
      "Processing weather data for cape town, city ID: 3369157\n",
      "Processing weather data for barrow, city ID: 5880054\n",
      "Processing weather data for chuy, city ID: 3443061\n",
      "Processing weather data for yellowknife, city ID: 6185377\n",
      "Processing weather data for mataura, city ID: 6201424\n",
      "Processing weather data for linxia, city ID: 1803331\n",
      "Processing weather data for dakar, city ID: 2253354\n",
      "attawapiskat not found...skipping\n",
      "Processing weather data for kahului, city ID: 5847411\n",
      "Processing weather data for vila franca do campo, city ID: 3372472\n",
      "Processing weather data for mahebourg, city ID: 934322\n",
      "Processing weather data for ilam, city ID: 1283334\n",
      "Processing weather data for asau, city ID: 686090\n",
      "gorkovskoye not found...skipping\n",
      "Processing weather data for razdolnoye, city ID: 2017478\n",
      "Processing weather data for sitka, city ID: 5557293\n",
      "Processing weather data for bure, city ID: 341397\n",
      "Processing weather data for pevek, city ID: 2122090\n",
      "Processing weather data for castro, city ID: 3466704\n",
      "Processing weather data for nome, city ID: 5870133\n",
      "Processing weather data for hilo, city ID: 5855927\n",
      "Processing weather data for avarua, city ID: 4035715\n",
      "Processing weather data for lorengau, city ID: 2092164\n",
      "Processing weather data for sao jose da coroa grande, city ID: 3388456\n",
      "Processing weather data for bengkulu, city ID: 1649150\n",
      "Processing weather data for buchanan, city ID: 2278158\n",
      "Processing weather data for ilulissat, city ID: 3423146\n",
      "Processing weather data for tiksi, city ID: 2015306\n",
      "illoqqortoormiut not found...skipping\n",
      "artyk not found...skipping\n",
      "Processing weather data for le port, city ID: 935616\n",
      "Processing weather data for nyuksenitsa, city ID: 516539\n",
      "Processing weather data for fortuna, city ID: 5563839\n",
      "Processing weather data for rikitea, city ID: 4030556\n",
      "Processing weather data for berdigestyakh, city ID: 2026861\n",
      "Processing weather data for atuona, city ID: 4020109\n",
      "Processing weather data for iki-burul, city ID: 557413\n",
      "belushya guba not found...skipping\n",
      "Processing weather data for hasaki, city ID: 2112802\n",
      "Processing weather data for victoria, city ID: 1819729\n",
      "Processing weather data for port alfred, city ID: 964432\n",
      "rawannawi not found...skipping\n",
      "Processing weather data for leiyang, city ID: 1804208\n",
      "taolanaro not found...skipping\n",
      "Processing weather data for bredasdorp, city ID: 1015776\n",
      "Processing weather data for camargo, city ID: 4013724\n",
      "Processing weather data for meulaboh, city ID: 1214488\n",
      "Processing weather data for dikson, city ID: 1507390\n",
      "Processing weather data for dejen, city ID: 339551\n",
      "Processing weather data for tefe, city ID: 3661944\n",
      "Processing weather data for mildura, city ID: 2157698\n",
      "Processing weather data for kindu, city ID: 212902\n",
      "Processing weather data for hobart, city ID: 2163355\n",
      "Processing weather data for ahipara, city ID: 2194098\n",
      "Processing weather data for nyurba, city ID: 2018735\n",
      "Processing weather data for eyl, city ID: 60019\n",
      "Processing weather data for san quintin, city ID: 3984997\n",
      "Processing weather data for bambous virieux, city ID: 1106677\n",
      "Processing weather data for nouadhibou, city ID: 2377457\n",
      "Processing weather data for qaanaaq, city ID: 3831208\n",
      "Processing weather data for esperance, city ID: 2071860\n",
      "Processing weather data for weligama, city ID: 1223738\n",
      "Processing weather data for airai, city ID: 1651810\n",
      "Processing weather data for shitanjing, city ID: 1794971\n",
      "Processing weather data for new norfolk, city ID: 2155415\n",
      "Processing weather data for bluff, city ID: 2206939\n",
      "Processing weather data for bilibino, city ID: 2126682\n",
      "Processing weather data for severomorsk, city ID: 496278\n",
      "Processing weather data for santa barbara, city ID: 5392967\n",
      "Processing weather data for robore, city ID: 3444176\n",
      "hihifo not found...skipping\n",
      "Processing weather data for azul, city ID: 3436199\n",
      "Processing weather data for beian, city ID: 3160100\n",
      "Processing weather data for aalen, city ID: 2959927\n",
      "Processing weather data for tottori, city ID: 1849892\n",
      "Processing weather data for olinda, city ID: 3393536\n",
      "Processing weather data for broken hill, city ID: 2173911\n",
      "Processing weather data for namatanai, city ID: 2090021\n",
      "Processing weather data for alofi, city ID: 4036284\n",
      "Processing weather data for takoradi, city ID: 2294915\n",
      "Processing weather data for bubaque, city ID: 2374583\n",
      "Processing weather data for new iberia, city ID: 4334971\n",
      "Processing weather data for gornopravdinsk, city ID: 1506268\n",
      "Processing weather data for tasiilaq, city ID: 3424607\n",
      "Processing weather data for indramayu, city ID: 1643078\n",
      "Processing weather data for aasiaat, city ID: 3424901\n",
      "Processing weather data for mbandaka, city ID: 2312895\n",
      "Processing weather data for tuktoyaktuk, city ID: 6170031\n",
      "Processing weather data for pisco, city ID: 3932145\n",
      "Processing weather data for avera, city ID: 4231997\n",
      "Processing weather data for goma, city ID: 216281\n",
      "Processing weather data for vila, city ID: 7117100\n",
      "tsihombe not found...skipping\n",
      "Processing weather data for umm lajj, city ID: 100926\n",
      "Processing weather data for yeniseysk, city ID: 1485997\n",
      "Processing weather data for inhambane, city ID: 1045114\n",
      "Processing weather data for jamestown, city ID: 5122534\n",
      "Processing weather data for porto novo, city ID: 2392087\n",
      "Processing weather data for sidi ali, city ID: 2487130\n",
      "Processing weather data for yushu, city ID: 2033242\n",
      "Processing weather data for chambersburg, city ID: 4557109\n",
      "Processing weather data for genhe, city ID: 2037252\n",
      "Processing weather data for ponta do sol, city ID: 2264557\n",
      "Processing weather data for santiago del estero, city ID: 3835869\n",
      "Processing weather data for bonthe, city ID: 2409914\n",
      "Processing weather data for bethel, city ID: 5282297\n",
      "Processing weather data for murwillumbah, city ID: 2156049\n",
      "Processing weather data for vaini, city ID: 4032243\n",
      "Processing weather data for puerto ayora, city ID: 3652764\n",
      "Processing weather data for hobyo, city ID: 57000\n",
      "Processing weather data for matay, city ID: 352628\n",
      "Processing weather data for norman wells, city ID: 6089245\n",
      "Processing weather data for aguie, city ID: 2448024\n",
      "Processing weather data for ambilobe, city ID: 1082243\n",
      "Processing weather data for dicabisagan, city ID: 1715015\n",
      "Processing weather data for kieta, city ID: 2094027\n",
      "Processing weather data for urdoma, city ID: 478769\n",
      "Processing weather data for kargasok, city ID: 1504382\n",
      "Processing weather data for verkh-usugli, city ID: 2013459\n",
      "Processing weather data for luderitz, city ID: 3355672\n",
      "Processing weather data for plouzane, city ID: 2986626\n",
      "Processing weather data for pombas, city ID: 3374351\n",
      "Processing weather data for lagoa, city ID: 3372964\n",
      "Processing weather data for bekobod, city ID: 1514402\n",
      "Processing weather data for saint-francois, city ID: 2980080\n",
      "marcona not found...skipping\n",
      "Processing weather data for souillac, city ID: 933995\n",
      "Processing weather data for manokwari, city ID: 1636308\n",
      "Processing weather data for tilichiki, city ID: 2120591\n"
     ]
    },
    {
     "name": "stdout",
     "output_type": "stream",
     "text": [
      "Processing weather data for salalah, city ID: 286621\n",
      "Processing weather data for san rafael, city ID: 3836669\n",
      "Processing weather data for sao filipe, city ID: 3374210\n",
      "Processing weather data for guadalupe, city ID: 4005492\n",
      "Processing weather data for kiama, city ID: 2161515\n",
      "Processing weather data for nikolskoye, city ID: 546105\n",
      "Processing weather data for denpasar, city ID: 1645528\n",
      "Processing weather data for saint-philippe, city ID: 935215\n",
      "Processing weather data for georgetown, city ID: 1735106\n",
      "amderma not found...skipping\n",
      "Processing weather data for cherskiy, city ID: 2126199\n",
      "Processing weather data for lebu, city ID: 3883457\n",
      "Processing weather data for sisimiut, city ID: 3419842\n",
      "Processing weather data for usinsk, city ID: 863061\n",
      "Processing weather data for palana, city ID: 2122262\n",
      "Processing weather data for moranbah, city ID: 6533368\n",
      "galiwinku not found...skipping\n",
      "Processing weather data for baihar, city ID: 1277776\n",
      "Processing weather data for cabo san lucas, city ID: 3985710\n",
      "Processing weather data for caravelas, city ID: 3466980\n",
      "Processing weather data for arraial do cabo, city ID: 3471451\n",
      "Processing weather data for cotonou, city ID: 2394819\n",
      "mutsamudu not found...skipping\n",
      "Processing weather data for ekhabi, city ID: 2122614\n",
      "Processing weather data for noormarkku, city ID: 644436\n",
      "Processing weather data for leningradskiy, city ID: 2123814\n",
      "Processing weather data for altamira, city ID: 3407882\n",
      "Processing weather data for turayf, city ID: 101312\n",
      "Processing weather data for the valley, city ID: 3573374\n",
      "Processing weather data for baykit, city ID: 1510689\n",
      "Processing weather data for hermanus, city ID: 3366880\n",
      "Processing weather data for taltal, city ID: 3870243\n",
      "Processing weather data for saskylakh, city ID: 2017155\n",
      "Processing weather data for oltu, city ID: 741160\n",
      "Processing weather data for kapaa, city ID: 5848280\n",
      "Processing weather data for kaitangata, city ID: 2208248\n",
      "Processing weather data for nikki, city ID: 2392505\n",
      "Processing weather data for klaksvik, city ID: 2618795\n",
      "Processing weather data for pangnirtung, city ID: 6096551\n",
      "Processing weather data for margate, city ID: 2643044\n",
      "Processing weather data for ghanzi, city ID: 933759\n",
      "Processing weather data for greenwood, city ID: 4580575\n",
      "Processing weather data for naples, city ID: 3172394\n",
      "Processing weather data for alugan, city ID: 1731248\n",
      "Processing weather data for vitim, city ID: 2013375\n",
      "Processing weather data for barinas, city ID: 3648546\n",
      "Processing weather data for humaita, city ID: 3664078\n",
      "Processing weather data for pacific grove, city ID: 5380437\n",
      "Processing weather data for katsuura, city ID: 2112309\n",
      "Processing weather data for kigoma, city ID: 157738\n",
      "Processing weather data for anadyr, city ID: 2127202\n",
      "Processing weather data for jamame, city ID: 56399\n",
      "Processing weather data for saint george, city ID: 5546220\n",
      "Processing weather data for kungurtug, city ID: 1501377\n",
      "Processing weather data for east london, city ID: 1006984\n",
      "Processing weather data for urucara, city ID: 3385670\n",
      "Processing weather data for comodoro rivadavia, city ID: 3860443\n",
      "jundubah not found...skipping\n",
      "Processing weather data for natchez, city ID: 4437982\n",
      "Processing weather data for kaeo, city ID: 2189343\n",
      "Processing weather data for aksu, city ID: 1529660\n",
      "Processing weather data for panguna, city ID: 2088659\n",
      "Processing weather data for coahuayana, city ID: 4013679\n",
      "Processing weather data for prince rupert, city ID: 6113406\n",
      "Processing weather data for thunder bay, city ID: 6166142\n",
      "Processing weather data for altay, city ID: 1529651\n",
      "Processing weather data for provideniya, city ID: 4031574\n",
      "Processing weather data for ancud, city ID: 3899695\n",
      "Processing weather data for iracoubo, city ID: 3381428\n",
      "Processing weather data for maracaju, city ID: 3457859\n",
      "Processing weather data for hastings, city ID: 2647356\n",
      "Processing weather data for lavrentiya, city ID: 4031637\n",
      "Processing weather data for bosaso, city ID: 64013\n",
      "Processing weather data for astana, city ID: 1526273\n",
      "yingshang not found...skipping\n",
      "Processing weather data for zhigansk, city ID: 2012530\n",
      "Processing weather data for mountain home, city ID: 5601615\n",
      "Processing weather data for ust-tsilma, city ID: 477940\n",
      "rungata not found...skipping\n",
      "Processing weather data for fairbanks, city ID: 5861897\n",
      "Processing weather data for winton, city ID: 5410144\n",
      "Processing weather data for hambantota, city ID: 1244926\n",
      "Processing weather data for parrita, city ID: 3622537\n",
      "Processing weather data for north bend, city ID: 5742974\n",
      "Processing weather data for taoudenni, city ID: 2450173\n",
      "Processing weather data for flin flon, city ID: 5954718\n",
      "Processing weather data for geraldton, city ID: 2070998\n",
      "yunjinghong not found...skipping\n",
      "Processing weather data for husavik, city ID: 2629833\n",
      "Processing weather data for hualmay, city ID: 3939761\n",
      "Processing weather data for babai, city ID: 1278073\n",
      "Processing weather data for bullhead city, city ID: 5287565\n",
      "Processing weather data for pouebo, city ID: 2138607\n",
      "Processing weather data for upernavik, city ID: 3418910\n",
      "Processing weather data for luau, city ID: 876177\n",
      "Processing weather data for la palma, city ID: 5364022\n",
      "Processing weather data for mar del plata, city ID: 3430863\n",
      "nizhneyansk not found...skipping\n",
      "Processing weather data for tabou, city ID: 2281120\n",
      "Processing weather data for mujiayingzi, city ID: 2035707\n",
      "tumannyy not found...skipping\n",
      "Processing weather data for beringovskiy, city ID: 2126710\n",
      "Processing weather data for dingle, city ID: 1714733\n",
      "Processing weather data for saint anthony, city ID: 5044290\n",
      "khonuu not found...skipping\n",
      "Processing weather data for espera feliz, city ID: 3463993\n",
      "Processing weather data for coronado, city ID: 5339663\n",
      "Processing weather data for karakol, city ID: 1528121\n",
      "Processing weather data for kavaratti, city ID: 1267390\n",
      "Processing weather data for almaznyy, city ID: 582447\n",
      "grand river south east not found...skipping\n",
      "Processing weather data for greytown, city ID: 1000006\n",
      "Processing weather data for catalao, city ID: 3466696\n",
      "Processing weather data for cootamundra, city ID: 2170430\n",
      "Processing weather data for tocache, city ID: 3691324\n",
      "Processing weather data for havelock, city ID: 4470244\n",
      "Processing weather data for beitbridge, city ID: 895269\n",
      "Processing weather data for duluth, city ID: 5024719\n",
      "Processing weather data for qaqortoq, city ID: 3420846\n",
      "Processing weather data for constitucion, city ID: 3893726\n",
      "bur gabo not found...skipping\n",
      "Processing weather data for galle, city ID: 1246294\n",
      "Processing weather data for los llanos de aridane, city ID: 2514651\n",
      "Processing weather data for okhotsk, city ID: 2122605\n",
      "Processing weather data for mount gambier, city ID: 2156643\n",
      "Processing weather data for revelstoke, city ID: 6121621\n",
      "mys shmidta not found...skipping\n",
      "Processing weather data for abha, city ID: 110690\n",
      "kawana waters not found...skipping\n",
      "Processing weather data for sorong, city ID: 1626542\n",
      "Processing weather data for hithadhoo, city ID: 1282256\n",
      "Processing weather data for derzhavinsk, city ID: 1524606\n",
      "Processing weather data for semnan, city ID: 116402\n",
      "Processing weather data for kajaani, city ID: 654899\n",
      "Processing weather data for fez, city ID: 2548885\n",
      "Processing weather data for longyearbyen, city ID: 2729907\n",
      "Processing weather data for calama, city ID: 3897347\n",
      "Processing weather data for mungwi, city ID: 904241\n",
      "Processing weather data for lompoc, city ID: 5367788\n",
      "Processing weather data for sokoni, city ID: 149812\n",
      "Processing weather data for mexicali, city ID: 3996069\n",
      "Processing weather data for faanui, city ID: 4034551\n",
      "Processing weather data for hamilton, city ID: 4513583\n",
      "Processing weather data for narsaq, city ID: 3421719\n",
      "Processing weather data for itaqui, city ID: 3460629\n",
      "Processing weather data for seabra, city ID: 3447928\n",
      "Processing weather data for khani, city ID: 610864\n",
      "Processing weather data for fukue, city ID: 1863997\n",
      "Processing weather data for san patricio, city ID: 4726521\n",
      "Processing weather data for port hardy, city ID: 6111862\n",
      "Processing weather data for tecoanapa, city ID: 3516171\n",
      "Processing weather data for carutapera, city ID: 3402648\n",
      "Processing weather data for lagos, city ID: 2332453\n",
      "Processing weather data for chapais, city ID: 5919850\n",
      "Processing weather data for daru, city ID: 2098329\n"
     ]
    },
    {
     "name": "stdout",
     "output_type": "stream",
     "text": [
      "Processing weather data for haines junction, city ID: 5969025\n",
      "Processing weather data for sechura, city ID: 3691954\n",
      "Processing weather data for sycamore, city ID: 4913110\n",
      "saleaula not found...skipping\n",
      "Processing weather data for coquimbo, city ID: 3893629\n",
      "Processing weather data for cidreira, city ID: 3466165\n",
      "Processing weather data for matara, city ID: 1235846\n",
      "Processing weather data for ribeira grande, city ID: 3372707\n",
      "Processing weather data for dondo, city ID: 1024696\n",
      "Processing weather data for vardo, city ID: 777019\n",
      "Processing weather data for itarema, city ID: 3393692\n",
      "Processing weather data for ust-kulom, city ID: 478050\n",
      "Processing weather data for birjand, city ID: 140463\n",
      "Processing weather data for hede, city ID: 1808744\n",
      "Processing weather data for samarai, city ID: 2132606\n",
      "Processing weather data for mao, city ID: 2514301\n",
      "Processing weather data for rawson, city ID: 3839307\n",
      "Processing weather data for notodden, city ID: 3144075\n",
      "Processing weather data for tuatapere, city ID: 2180815\n",
      "Processing weather data for guane, city ID: 3557758\n",
      "Processing weather data for teluknaga, city ID: 1990589\n",
      "Processing weather data for nalut, city ID: 2214432\n",
      "Processing weather data for inverness, city ID: 2646088\n",
      "formoso do araguaia not found...skipping\n",
      "Processing weather data for bereda, city ID: 3105522\n",
      "Processing weather data for chara, city ID: 2025630\n",
      "Processing weather data for feijo, city ID: 3664243\n",
      "Processing weather data for richards bay, city ID: 962367\n",
      "Processing weather data for fare, city ID: 4034496\n",
      "Processing weather data for itacoatiara, city ID: 3397893\n",
      "bolungarvik not found...skipping\n",
      "Processing weather data for udachnyy, city ID: 2014624\n",
      "Processing weather data for yar-sale, city ID: 1486321\n",
      "Processing weather data for huangcun, city ID: 1553571\n",
      "Processing weather data for golyshmanovo, city ID: 1506422\n",
      "palabuhanratu not found...skipping\n",
      "Processing weather data for faya, city ID: 110690\n",
      "Processing weather data for vila velha, city ID: 3445026\n",
      "Processing weather data for kadhan, city ID: 1175506\n",
      "Processing weather data for lobito, city ID: 3347939\n",
      "tunduru not found...skipping\n",
      "Processing weather data for rozsypne, city ID: 695798\n",
      "Processing weather data for bintulu, city ID: 1737486\n",
      "Processing weather data for hofn, city ID: 2630299\n",
      "Processing weather data for acarau, city ID: 3408368\n",
      "Processing weather data for gopalpur, city ID: 1270961\n",
      "Processing weather data for yinchuan, city ID: 1786657\n",
      "Processing weather data for leshukonskoye, city ID: 535839\n",
      "Processing weather data for lakes entrance, city ID: 2160735\n",
      "Processing weather data for agirish, city ID: 1512101\n",
      "Processing weather data for talnakh, city ID: 1490256\n",
      "Processing weather data for muzhi, city ID: 1498161\n",
      "kerki not found...skipping\n",
      "Processing weather data for sandpoint, city ID: 5606401\n",
      "Processing weather data for podporozhye, city ID: 508034\n",
      "Processing weather data for harper, city ID: 2276492\n",
      "Processing weather data for deputatskiy, city ID: 2028164\n",
      "Processing weather data for mayo, city ID: 4362001\n",
      "Processing weather data for ternate, city ID: 1624041\n",
      "Processing weather data for saint-joseph, city ID: 6690296\n",
      "Processing weather data for moengo, city ID: 3383494\n",
      "Processing weather data for barabash, city ID: 2027142\n",
      "Processing weather data for vanimo, city ID: 2084442\n",
      "Processing weather data for yangambi, city ID: 203717\n",
      "Processing weather data for kruisfontein, city ID: 986717\n",
      "Processing weather data for almenara, city ID: 3472520\n",
      "Processing weather data for ruiru, city ID: 179330\n",
      "lolua not found...skipping\n",
      "Processing weather data for sur, city ID: 286245\n",
      "Processing weather data for maniitsoq, city ID: 3421982\n",
      "Processing weather data for northam, city ID: 2641434\n",
      "Processing weather data for qiryat gat, city ID: 293842\n",
      "Processing weather data for ostrovnoy, city ID: 556268\n",
      "Processing weather data for severnoye, city ID: 1492607\n",
      "Processing weather data for kahramanmaras, city ID: 310858\n",
      "yirol not found...skipping\n",
      "Processing weather data for omsukchan, city ID: 2122493\n",
      "Processing weather data for zhuhai, city ID: 1790437\n",
      "Processing weather data for nieuw nickerie, city ID: 3383427\n",
      "Processing weather data for barcelos, city ID: 2742416\n",
      "Processing weather data for hatillo, city ID: 4565346\n",
      "Processing weather data for iqaluit, city ID: 5983720\n",
      "Processing weather data for brodnica, city ID: 3102627\n",
      "Processing weather data for rincon, city ID: 4218882\n",
      "Processing weather data for el carmen, city ID: 3684683\n",
      "Processing weather data for aranos, city ID: 3358666\n",
      "Processing weather data for bacolod, city ID: 1729564\n",
      "Processing weather data for biak, city ID: 1637001\n",
      "Processing weather data for paranaiba, city ID: 3455065\n",
      "karakendzha not found...skipping\n",
      "Processing weather data for daugavpils, city ID: 460413\n",
      "Processing weather data for bud, city ID: 4255151\n",
      "Processing weather data for talaya, city ID: 2120769\n",
      "Processing weather data for shu, city ID: 1519030\n",
      "Processing weather data for olafsvik, city ID: 3414079\n",
      "Processing weather data for namibe, city ID: 3347019\n",
      "Processing weather data for buritama, city ID: 3468789\n",
      "Processing weather data for atar, city ID: 2381334\n",
      "Processing weather data for port elizabeth, city ID: 964420\n",
      "Processing weather data for pitimbu, city ID: 3391889\n",
      "Processing weather data for hit, city ID: 95788\n",
      "Processing weather data for kudahuvadhoo, city ID: 1337607\n",
      "Processing weather data for palembang, city ID: 1633070\n",
      "Processing weather data for port lincoln, city ID: 2063036\n",
      "Processing weather data for tabuk, city ID: 1684803\n",
      "Processing weather data for hami, city ID: 1529484\n",
      "Processing weather data for nanortalik, city ID: 3421765\n",
      "Processing weather data for san carlos de bariloche, city ID: 7647007\n",
      "Processing weather data for gualeguay, city ID: 3433663\n",
      "saint combs not found...skipping\n",
      "Processing weather data for farafenni, city ID: 2413515\n",
      "Processing weather data for oda, city ID: 1854774\n",
      "Processing weather data for saldanha, city ID: 3361934\n",
      "Processing weather data for olga, city ID: 2018553\n",
      "Processing weather data for abnub, city ID: 362973\n",
      "Processing weather data for mpraeso, city ID: 2297834\n",
      "Processing weather data for podgornoye, city ID: 508362\n",
      "Processing weather data for iisalmi, city ID: 656820\n",
      "Processing weather data for shihezi, city ID: 1529195\n",
      "Processing weather data for krasnogorskoye, city ID: 1502105\n",
      "Processing weather data for sinnamary, city ID: 3380290\n",
      "Processing weather data for tapalpa, city ID: 3982461\n",
      "Processing weather data for hervey bay, city ID: 2146219\n",
      "Processing weather data for baherden, city ID: 162158\n",
      "Processing weather data for miraflores, city ID: 3761194\n",
      "Processing weather data for amga, city ID: 2027786\n",
      "Processing weather data for amazar, city ID: 2027806\n",
      "Processing weather data for portland, city ID: 5746545\n",
      "Processing weather data for carlsbad, city ID: 5334223\n",
      "Processing weather data for ban phai, city ID: 1614455\n",
      "Processing weather data for guerrero negro, city ID: 4021858\n",
      "Processing weather data for tezu, city ID: 1254709\n",
      "Processing weather data for soweto, city ID: 953781\n",
      "Processing weather data for grand gaube, city ID: 934479\n",
      "Processing weather data for qandala, city ID: 53157\n",
      "Processing weather data for celestun, city ID: 3531368\n",
      "Processing weather data for nadym, city ID: 1498087\n",
      "Processing weather data for waingapu, city ID: 1622318\n",
      "Processing weather data for makakilo city, city ID: 5850554\n",
      "Processing weather data for pochutla, city ID: 3517970\n",
      "cagayan de tawi-tawi not found...skipping\n",
      "Processing weather data for tacuarembo, city ID: 3440034\n",
      "Processing weather data for karratha, city ID: 6620339\n",
      "Processing weather data for okha, city ID: 2122614\n",
      "Processing weather data for port moresby, city ID: 2088122\n",
      "Processing weather data for kashi, city ID: 1280849\n",
      "Processing weather data for muravlenko, city ID: 1540711\n",
      "Processing weather data for verkhnetulomskiy, city ID: 475469\n",
      "Processing weather data for andenes, city ID: 3163146\n",
      "Processing weather data for tiznit, city ID: 2527087\n",
      "Processing weather data for sumbe, city ID: 3346015\n",
      "Processing weather data for alberdi, city ID: 3866418\n",
      "Processing weather data for santa isabel do rio negro, city ID: 3662489\n",
      "Processing weather data for lisa, city ID: 674723\n",
      "Processing weather data for pembroke, city ID: 6100832\n",
      "Processing weather data for komsomolskiy, city ID: 1513491\n"
     ]
    },
    {
     "name": "stdout",
     "output_type": "stream",
     "text": [
      "Processing weather data for shimoda, city ID: 1852357\n",
      "Processing weather data for san jose, city ID: 5392171\n",
      "Processing weather data for labuhan, city ID: 8079926\n",
      "Processing weather data for insar, city ID: 556318\n",
      "Processing weather data for rafsanjan, city ID: 118994\n",
      "Processing weather data for epe, city ID: 2343252\n",
      "Processing weather data for gore, city ID: 6201424\n",
      "Processing weather data for poum, city ID: 2138555\n",
      "Processing weather data for malakal, city ID: 370737\n",
      "Processing weather data for jackson, city ID: 5733351\n",
      "Processing weather data for tamandare, city ID: 3386931\n",
      "Processing weather data for port hedland, city ID: 2063042\n",
      "Processing weather data for eregli, city ID: 315498\n",
      "Processing weather data for mandalgovi, city ID: 2030065\n",
      "Processing weather data for merauke, city ID: 2082539\n",
      "Processing weather data for waipawa, city ID: 2206874\n",
      "Processing weather data for te anau, city ID: 2181625\n",
      "Processing weather data for ierapetra, city ID: 261814\n",
      "Processing weather data for san lorenzo, city ID: 3437056\n",
      "Processing weather data for hagerstown, city ID: 4357141\n",
      "Processing weather data for penukonda, city ID: 1259905\n",
      "Processing weather data for octeville, city ID: 2989755\n",
      "Processing weather data for henties bay, city ID: 3356832\n",
      "Processing weather data for sarandi, city ID: 3447998\n",
      "Processing weather data for buraydah, city ID: 107304\n",
      "Processing weather data for alyangula, city ID: 2079582\n",
      "vaitupu not found...skipping\n",
      "Processing weather data for belyy yar, city ID: 1510377\n",
      "Processing weather data for naze, city ID: 1855540\n",
      "Processing weather data for uruzgan, city ID: 1131461\n",
      "Processing weather data for kaduy, city ID: 554535\n",
      "Processing weather data for khatanga, city ID: 2022572\n",
      "Processing weather data for port hawkesbury, city ID: 6111867\n",
      "Processing weather data for huilong, city ID: 1806840\n",
      "tawkar not found...skipping\n",
      "Processing weather data for nabire, city ID: 1634614\n",
      "Processing weather data for muros, city ID: 3115824\n",
      "Processing weather data for kanturk, city ID: 2963555\n",
      "Processing weather data for murray bridge, city ID: 2065176\n",
      "Processing weather data for praya, city ID: 3374333\n",
      "Processing weather data for fengxian, city ID: 1811200\n",
      "Processing weather data for synya, city ID: 485215\n",
      "Processing weather data for tema, city ID: 2294700\n",
      "samusu not found...skipping\n",
      "Processing weather data for kuching, city ID: 1735634\n",
      "Processing weather data for tura, city ID: 1254046\n",
      "Processing weather data for fort nelson, city ID: 5955902\n",
      "Processing weather data for kanniyakumari, city ID: 1268008\n",
      "Processing weather data for knysna, city ID: 988698\n",
      "Processing weather data for novyy urengoy, city ID: 1496511\n",
      "Processing weather data for solwezi, city ID: 897045\n",
      "Processing weather data for zima, city ID: 2012484\n",
      "Processing weather data for luanda, city ID: 2240449\n",
      "Processing weather data for xiuyan, city ID: 2033602\n",
      "Processing weather data for sindal, city ID: 2614010\n",
      "Processing weather data for morro bay, city ID: 5374920\n",
      "Processing weather data for mecca, city ID: 104515\n",
      "Processing weather data for nemuro, city ID: 2128975\n",
      "Processing weather data for santo angelo, city ID: 3449696\n",
      "Processing weather data for bandarbeyla, city ID: 64814\n",
      "Processing weather data for mehamn, city ID: 778707\n",
      "Processing weather data for quincy, city ID: 4948247\n",
      "Processing weather data for shahr-e kord, city ID: 115770\n",
      "Processing weather data for altamirano, city ID: 3532996\n",
      "Processing weather data for gweta, city ID: 933734\n",
      "Processing weather data for gat, city ID: 293842\n",
      "Processing weather data for rio grande, city ID: 3451138\n",
      "Processing weather data for jumla, city ID: 1283285\n",
      "Processing weather data for utete, city ID: 149070\n",
      "tarudant not found...skipping\n",
      "Processing weather data for mosquera, city ID: 3674292\n",
      "kadykchan not found...skipping\n",
      "Processing weather data for leh, city ID: 1264976\n",
      "Processing weather data for payao, city ID: 1694209\n",
      "Processing weather data for ajtos, city ID: 733579\n",
      "Processing weather data for edd, city ID: 338345\n",
      "Processing weather data for ryotsu, city ID: 1853371\n",
      "Processing weather data for jacareacanga, city ID: 3397763\n",
      "Processing weather data for tuy hoa, city ID: 1563281\n",
      "Processing weather data for dwarka, city ID: 1272140\n",
      "Processing weather data for road town, city ID: 3577430\n",
      "Processing weather data for tokur, city ID: 2015217\n",
      "Processing weather data for saint-doulchard, city ID: 2980801\n",
      "Processing weather data for zafra, city ID: 2509377\n",
      "Processing weather data for roald, city ID: 3141667\n",
      "Processing weather data for gbarnga, city ID: 2277060\n",
      "Processing weather data for puerto madero, city ID: 3520989\n",
      "Processing weather data for pemangkat, city ID: 1631637\n",
      "Processing weather data for yining, city ID: 1786538\n",
      "Processing weather data for imeni poliny osipenko, city ID: 2023584\n",
      "el faiyum not found...skipping\n",
      "Processing weather data for palmer, city ID: 4946620\n",
      "Processing weather data for codrington, city ID: 2171099\n",
      "Processing weather data for cabedelo, city ID: 3404558\n",
      "Processing weather data for coffs harbour, city ID: 2171085\n",
      "Processing weather data for kasangulu, city ID: 2315057\n",
      "Processing weather data for natal, city ID: 3394023\n",
      "Processing weather data for braniewo, city ID: 3102677\n",
      "Processing weather data for mount isa, city ID: 2065594\n",
      "Processing weather data for ubala, city ID: 3666526\n",
      "Processing weather data for broome, city ID: 5110365\n",
      "Processing weather data for wagar, city ID: 364027\n",
      "Processing weather data for ludvika, city ID: 2693759\n",
      "Processing weather data for drayton valley, city ID: 5942547\n",
      "Processing weather data for minas, city ID: 3441665\n",
      "Processing weather data for dzhebariki-khaya, city ID: 2024626\n",
      "Processing weather data for port-gentil, city ID: 2396518\n",
      "Processing weather data for ugoofaaru, city ID: 1337619\n",
      "Processing weather data for miri, city ID: 1738050\n",
      "Processing weather data for kuybysheve, city ID: 703494\n",
      "Processing weather data for acapulco, city ID: 3533462\n",
      "Processing weather data for vrangel, city ID: 2013258\n",
      "Processing weather data for salamanca, city ID: 3111107\n",
      "Processing weather data for santa marta, city ID: 3668605\n",
      "Processing weather data for marovoay, city ID: 1059507\n",
      "Processing weather data for danane, city ID: 2290462\n",
      "Processing weather data for huarmey, city ID: 3939168\n",
      "Processing weather data for san alberto, city ID: 3670242\n",
      "Processing weather data for garhi khairo, city ID: 1178858\n",
      "Processing weather data for hals, city ID: 2620871\n",
      "Processing weather data for kijang, city ID: 1842966\n",
      "Processing weather data for suoyarvi, city ID: 486186\n",
      "Processing weather data for juneau, city ID: 5554072\n",
      "Processing weather data for teya, city ID: 1489656\n",
      "Processing weather data for bathsheba, city ID: 3374083\n",
      "Processing weather data for la libertad, city ID: 3655131\n",
      "Processing weather data for varhaug, city ID: 3132644\n",
      "Processing weather data for nishihara, city ID: 1855342\n",
      "Processing weather data for sigli, city ID: 1213821\n",
      "grand centre not found...skipping\n",
      "Processing weather data for borovskoy, city ID: 1525121\n",
      "Processing weather data for camana, city ID: 3945985\n",
      "Processing weather data for praia da vitoria, city ID: 3372760\n",
      "Processing weather data for russell, city ID: 4047434\n",
      "Processing weather data for sikasso, city ID: 2451184\n",
      "Processing weather data for maceio, city ID: 3395981\n",
      "Processing weather data for shingu, city ID: 1847947\n",
      "Processing weather data for amapa, city ID: 3407762\n",
      "Processing weather data for villa rica, city ID: 4228452\n",
      "Processing weather data for kyzyl-suu, city ID: 1527497\n",
      "mentok not found...skipping\n",
      "Processing weather data for anchorage, city ID: 5879400\n",
      "Processing weather data for mantua, city ID: 3174050\n",
      "Processing weather data for makarov, city ID: 2123614\n",
      "Processing weather data for naldurg, city ID: 1262073\n",
      "Processing weather data for oussouye, city ID: 2246901\n",
      "Processing weather data for arlit, city ID: 2447513\n",
      "phan rang not found...skipping\n",
      "Processing weather data for velyka bahachka, city ID: 690285\n",
      "Processing weather data for tubuala, city ID: 3700393\n",
      "Processing weather data for nagua, city ID: 3496021\n",
      "Processing weather data for svetlyy, city ID: 485660\n",
      "Processing weather data for la asuncion, city ID: 3480908\n",
      "Processing weather data for gladstone, city ID: 2165478\n"
     ]
    },
    {
     "name": "stdout",
     "output_type": "stream",
     "text": [
      "Processing weather data for zabol, city ID: 1121143\n",
      "Processing weather data for cayenne, city ID: 3382160\n",
      "Processing weather data for peleduy, city ID: 2018069\n",
      "Processing weather data for belmonte, city ID: 3470137\n",
      "karaul not found...skipping\n",
      "Processing weather data for viedma, city ID: 3832899\n",
      "Processing weather data for laguna, city ID: 5364271\n",
      "Processing weather data for setermoen, city ID: 3139765\n",
      "Processing weather data for de-kastri, city ID: 2126018\n",
      "Processing weather data for alghero, city ID: 3183284\n",
      "Processing weather data for antigonish, city ID: 5886182\n",
      "Processing weather data for sakakah, city ID: 102527\n",
      "Processing weather data for san policarpo, city ID: 1688696\n",
      "Processing weather data for pervomayskoye, city ID: 797213\n",
      "Processing weather data for boende, city ID: 218680\n",
      "Processing weather data for majene, city ID: 1636806\n"
     ]
    }
   ],
   "source": [
    "for city in cities:\n",
    "    url = f'http://api.openweathermap.org/data/2.5/weather?q={city}&appid={weather_api_key}&units=imperial' \n",
    "    weather_response = requests.get(url).json()\n",
    "    \n",
    "    try:\n",
    "        city_ID.append(weather_response['id'])\n",
    "        temperatures.append(weather_response['main']['temp'])\n",
    "        humidities.append(weather_response['main']['humidity'])\n",
    "        cloudinesses.append(weather_response['clouds']['all'])\n",
    "        wind_speeds.append(weather_response['wind']['speed'])\n",
    "        latitudes.append(weather_response['coord']['lat'])\n",
    "        longitudes.append(weather_response['coord']['lon'])\n",
    "        cities_found.append(city)\n",
    "        countries.append(weather_response['sys']['country'])\n",
    "        print(f'Processing weather data for {city}, city ID: {weather_response[\"id\"]}')\n",
    "    except:\n",
    "        print(f'{city} not found...skipping')\n",
    "\n",
    "\n",
    "\n",
    "  "
   ]
  },
  {
   "cell_type": "code",
   "execution_count": 7,
   "metadata": {},
   "outputs": [
    {
     "data": {
      "text/plain": [
       "589"
      ]
     },
     "execution_count": 7,
     "metadata": {},
     "output_type": "execute_result"
    }
   ],
   "source": [
    "len(longitudes)"
   ]
  },
  {
   "cell_type": "code",
   "execution_count": 8,
   "metadata": {},
   "outputs": [
    {
     "data": {
      "text/html": [
       "<div>\n",
       "<style scoped>\n",
       "    .dataframe tbody tr th:only-of-type {\n",
       "        vertical-align: middle;\n",
       "    }\n",
       "\n",
       "    .dataframe tbody tr th {\n",
       "        vertical-align: top;\n",
       "    }\n",
       "\n",
       "    .dataframe thead th {\n",
       "        text-align: right;\n",
       "    }\n",
       "</style>\n",
       "<table border=\"1\" class=\"dataframe\">\n",
       "  <thead>\n",
       "    <tr style=\"text-align: right;\">\n",
       "      <th></th>\n",
       "      <th>City</th>\n",
       "      <th>City ID</th>\n",
       "      <th>Country</th>\n",
       "      <th>Latitude</th>\n",
       "      <th>Longitude</th>\n",
       "      <th>Temperature</th>\n",
       "      <th>Humidity</th>\n",
       "      <th>Cloudiness</th>\n",
       "      <th>Wind Speed</th>\n",
       "    </tr>\n",
       "  </thead>\n",
       "  <tbody>\n",
       "    <tr>\n",
       "      <th>0</th>\n",
       "      <td>itoman</td>\n",
       "      <td>1861280</td>\n",
       "      <td>JP</td>\n",
       "      <td>26.12</td>\n",
       "      <td>127.67</td>\n",
       "      <td>62.51</td>\n",
       "      <td>63</td>\n",
       "      <td>75</td>\n",
       "      <td>13.87</td>\n",
       "    </tr>\n",
       "    <tr>\n",
       "      <th>1</th>\n",
       "      <td>busselton</td>\n",
       "      <td>2075265</td>\n",
       "      <td>AU</td>\n",
       "      <td>-33.65</td>\n",
       "      <td>115.33</td>\n",
       "      <td>70.00</td>\n",
       "      <td>51</td>\n",
       "      <td>0</td>\n",
       "      <td>5.01</td>\n",
       "    </tr>\n",
       "    <tr>\n",
       "      <th>2</th>\n",
       "      <td>paamiut</td>\n",
       "      <td>3421193</td>\n",
       "      <td>GL</td>\n",
       "      <td>61.99</td>\n",
       "      <td>-49.67</td>\n",
       "      <td>27.79</td>\n",
       "      <td>97</td>\n",
       "      <td>98</td>\n",
       "      <td>21.14</td>\n",
       "    </tr>\n",
       "    <tr>\n",
       "      <th>3</th>\n",
       "      <td>chokurdakh</td>\n",
       "      <td>2126123</td>\n",
       "      <td>RU</td>\n",
       "      <td>70.63</td>\n",
       "      <td>147.92</td>\n",
       "      <td>-19.57</td>\n",
       "      <td>88</td>\n",
       "      <td>76</td>\n",
       "      <td>9.51</td>\n",
       "    </tr>\n",
       "    <tr>\n",
       "      <th>4</th>\n",
       "      <td>ushuaia</td>\n",
       "      <td>3833367</td>\n",
       "      <td>AR</td>\n",
       "      <td>-54.80</td>\n",
       "      <td>-68.30</td>\n",
       "      <td>44.60</td>\n",
       "      <td>70</td>\n",
       "      <td>40</td>\n",
       "      <td>24.16</td>\n",
       "    </tr>\n",
       "    <tr>\n",
       "      <th>...</th>\n",
       "      <td>...</td>\n",
       "      <td>...</td>\n",
       "      <td>...</td>\n",
       "      <td>...</td>\n",
       "      <td>...</td>\n",
       "      <td>...</td>\n",
       "      <td>...</td>\n",
       "      <td>...</td>\n",
       "      <td>...</td>\n",
       "    </tr>\n",
       "    <tr>\n",
       "      <th>584</th>\n",
       "      <td>sakakah</td>\n",
       "      <td>102527</td>\n",
       "      <td>SA</td>\n",
       "      <td>29.97</td>\n",
       "      <td>40.21</td>\n",
       "      <td>50.00</td>\n",
       "      <td>71</td>\n",
       "      <td>0</td>\n",
       "      <td>4.70</td>\n",
       "    </tr>\n",
       "    <tr>\n",
       "      <th>585</th>\n",
       "      <td>san policarpo</td>\n",
       "      <td>1688696</td>\n",
       "      <td>PH</td>\n",
       "      <td>12.18</td>\n",
       "      <td>125.51</td>\n",
       "      <td>82.42</td>\n",
       "      <td>83</td>\n",
       "      <td>67</td>\n",
       "      <td>14.18</td>\n",
       "    </tr>\n",
       "    <tr>\n",
       "      <th>586</th>\n",
       "      <td>pervomayskoye</td>\n",
       "      <td>797213</td>\n",
       "      <td>RU</td>\n",
       "      <td>43.92</td>\n",
       "      <td>46.71</td>\n",
       "      <td>41.04</td>\n",
       "      <td>81</td>\n",
       "      <td>100</td>\n",
       "      <td>14.27</td>\n",
       "    </tr>\n",
       "    <tr>\n",
       "      <th>587</th>\n",
       "      <td>boende</td>\n",
       "      <td>218680</td>\n",
       "      <td>CD</td>\n",
       "      <td>-0.22</td>\n",
       "      <td>20.87</td>\n",
       "      <td>70.14</td>\n",
       "      <td>95</td>\n",
       "      <td>100</td>\n",
       "      <td>2.35</td>\n",
       "    </tr>\n",
       "    <tr>\n",
       "      <th>588</th>\n",
       "      <td>majene</td>\n",
       "      <td>1636806</td>\n",
       "      <td>ID</td>\n",
       "      <td>-3.54</td>\n",
       "      <td>118.97</td>\n",
       "      <td>85.68</td>\n",
       "      <td>62</td>\n",
       "      <td>100</td>\n",
       "      <td>8.28</td>\n",
       "    </tr>\n",
       "  </tbody>\n",
       "</table>\n",
       "<p>589 rows × 9 columns</p>\n",
       "</div>"
      ],
      "text/plain": [
       "              City  City ID Country  Latitude  Longitude  Temperature  \\\n",
       "0           itoman  1861280      JP     26.12     127.67        62.51   \n",
       "1        busselton  2075265      AU    -33.65     115.33        70.00   \n",
       "2          paamiut  3421193      GL     61.99     -49.67        27.79   \n",
       "3       chokurdakh  2126123      RU     70.63     147.92       -19.57   \n",
       "4          ushuaia  3833367      AR    -54.80     -68.30        44.60   \n",
       "..             ...      ...     ...       ...        ...          ...   \n",
       "584        sakakah   102527      SA     29.97      40.21        50.00   \n",
       "585  san policarpo  1688696      PH     12.18     125.51        82.42   \n",
       "586  pervomayskoye   797213      RU     43.92      46.71        41.04   \n",
       "587         boende   218680      CD     -0.22      20.87        70.14   \n",
       "588         majene  1636806      ID     -3.54     118.97        85.68   \n",
       "\n",
       "     Humidity  Cloudiness  Wind Speed  \n",
       "0          63          75       13.87  \n",
       "1          51           0        5.01  \n",
       "2          97          98       21.14  \n",
       "3          88          76        9.51  \n",
       "4          70          40       24.16  \n",
       "..        ...         ...         ...  \n",
       "584        71           0        4.70  \n",
       "585        83          67       14.18  \n",
       "586        81         100       14.27  \n",
       "587        95         100        2.35  \n",
       "588        62         100        8.28  \n",
       "\n",
       "[589 rows x 9 columns]"
      ]
     },
     "execution_count": 8,
     "metadata": {},
     "output_type": "execute_result"
    }
   ],
   "source": [
    "dict_weather = {\n",
    "    'City': cities_found,\n",
    "    'City ID' : city_ID,\n",
    "    'Country' : countries,\n",
    "    'Latitude' : latitudes,\n",
    "    'Longitude' : longitudes,\n",
    "    'Temperature' : temperatures,\n",
    "    'Humidity' : humidities,\n",
    "    'Cloudiness' : cloudinesses,\n",
    "    'Wind Speed' : wind_speeds,\n",
    "}\n",
    "\n",
    "weather_data = pd.DataFrame(dict_weather)\n",
    "\n",
    "weather_data"
   ]
  },
  {
   "cell_type": "code",
   "execution_count": 9,
   "metadata": {},
   "outputs": [],
   "source": [
    "weather_data.to_csv(\"weather.csv\", index=False, header=True)"
   ]
  },
  {
   "cell_type": "markdown",
   "metadata": {},
   "source": [
    "### Convert Raw Data to DataFrame\n",
    "* Export the city data into a .csv.\n",
    "* Display the DataFrame\n",
    "weather_data.to_csv(\"weather.csv\", index=False, header=True)"
   ]
  },
  {
   "cell_type": "code",
   "execution_count": 10,
   "metadata": {},
   "outputs": [],
   "source": [
    "weather_data = weather_data[weather_data['Humidity'] <= 100]"
   ]
  },
  {
   "cell_type": "code",
   "execution_count": 11,
   "metadata": {},
   "outputs": [
    {
     "data": {
      "text/html": [
       "<div>\n",
       "<style scoped>\n",
       "    .dataframe tbody tr th:only-of-type {\n",
       "        vertical-align: middle;\n",
       "    }\n",
       "\n",
       "    .dataframe tbody tr th {\n",
       "        vertical-align: top;\n",
       "    }\n",
       "\n",
       "    .dataframe thead th {\n",
       "        text-align: right;\n",
       "    }\n",
       "</style>\n",
       "<table border=\"1\" class=\"dataframe\">\n",
       "  <thead>\n",
       "    <tr style=\"text-align: right;\">\n",
       "      <th></th>\n",
       "      <th>City</th>\n",
       "      <th>City ID</th>\n",
       "      <th>Country</th>\n",
       "      <th>Latitude</th>\n",
       "      <th>Longitude</th>\n",
       "      <th>Temperature</th>\n",
       "      <th>Humidity</th>\n",
       "      <th>Cloudiness</th>\n",
       "      <th>Wind Speed</th>\n",
       "    </tr>\n",
       "  </thead>\n",
       "  <tbody>\n",
       "    <tr>\n",
       "      <th>0</th>\n",
       "      <td>itoman</td>\n",
       "      <td>1861280</td>\n",
       "      <td>JP</td>\n",
       "      <td>26.12</td>\n",
       "      <td>127.67</td>\n",
       "      <td>62.51</td>\n",
       "      <td>63</td>\n",
       "      <td>75</td>\n",
       "      <td>13.87</td>\n",
       "    </tr>\n",
       "    <tr>\n",
       "      <th>1</th>\n",
       "      <td>busselton</td>\n",
       "      <td>2075265</td>\n",
       "      <td>AU</td>\n",
       "      <td>-33.65</td>\n",
       "      <td>115.33</td>\n",
       "      <td>70.00</td>\n",
       "      <td>51</td>\n",
       "      <td>0</td>\n",
       "      <td>5.01</td>\n",
       "    </tr>\n",
       "    <tr>\n",
       "      <th>2</th>\n",
       "      <td>paamiut</td>\n",
       "      <td>3421193</td>\n",
       "      <td>GL</td>\n",
       "      <td>61.99</td>\n",
       "      <td>-49.67</td>\n",
       "      <td>27.79</td>\n",
       "      <td>97</td>\n",
       "      <td>98</td>\n",
       "      <td>21.14</td>\n",
       "    </tr>\n",
       "    <tr>\n",
       "      <th>3</th>\n",
       "      <td>chokurdakh</td>\n",
       "      <td>2126123</td>\n",
       "      <td>RU</td>\n",
       "      <td>70.63</td>\n",
       "      <td>147.92</td>\n",
       "      <td>-19.57</td>\n",
       "      <td>88</td>\n",
       "      <td>76</td>\n",
       "      <td>9.51</td>\n",
       "    </tr>\n",
       "    <tr>\n",
       "      <th>4</th>\n",
       "      <td>ushuaia</td>\n",
       "      <td>3833367</td>\n",
       "      <td>AR</td>\n",
       "      <td>-54.80</td>\n",
       "      <td>-68.30</td>\n",
       "      <td>44.60</td>\n",
       "      <td>70</td>\n",
       "      <td>40</td>\n",
       "      <td>24.16</td>\n",
       "    </tr>\n",
       "    <tr>\n",
       "      <th>...</th>\n",
       "      <td>...</td>\n",
       "      <td>...</td>\n",
       "      <td>...</td>\n",
       "      <td>...</td>\n",
       "      <td>...</td>\n",
       "      <td>...</td>\n",
       "      <td>...</td>\n",
       "      <td>...</td>\n",
       "      <td>...</td>\n",
       "    </tr>\n",
       "    <tr>\n",
       "      <th>584</th>\n",
       "      <td>sakakah</td>\n",
       "      <td>102527</td>\n",
       "      <td>SA</td>\n",
       "      <td>29.97</td>\n",
       "      <td>40.21</td>\n",
       "      <td>50.00</td>\n",
       "      <td>71</td>\n",
       "      <td>0</td>\n",
       "      <td>4.70</td>\n",
       "    </tr>\n",
       "    <tr>\n",
       "      <th>585</th>\n",
       "      <td>san policarpo</td>\n",
       "      <td>1688696</td>\n",
       "      <td>PH</td>\n",
       "      <td>12.18</td>\n",
       "      <td>125.51</td>\n",
       "      <td>82.42</td>\n",
       "      <td>83</td>\n",
       "      <td>67</td>\n",
       "      <td>14.18</td>\n",
       "    </tr>\n",
       "    <tr>\n",
       "      <th>586</th>\n",
       "      <td>pervomayskoye</td>\n",
       "      <td>797213</td>\n",
       "      <td>RU</td>\n",
       "      <td>43.92</td>\n",
       "      <td>46.71</td>\n",
       "      <td>41.04</td>\n",
       "      <td>81</td>\n",
       "      <td>100</td>\n",
       "      <td>14.27</td>\n",
       "    </tr>\n",
       "    <tr>\n",
       "      <th>587</th>\n",
       "      <td>boende</td>\n",
       "      <td>218680</td>\n",
       "      <td>CD</td>\n",
       "      <td>-0.22</td>\n",
       "      <td>20.87</td>\n",
       "      <td>70.14</td>\n",
       "      <td>95</td>\n",
       "      <td>100</td>\n",
       "      <td>2.35</td>\n",
       "    </tr>\n",
       "    <tr>\n",
       "      <th>588</th>\n",
       "      <td>majene</td>\n",
       "      <td>1636806</td>\n",
       "      <td>ID</td>\n",
       "      <td>-3.54</td>\n",
       "      <td>118.97</td>\n",
       "      <td>85.68</td>\n",
       "      <td>62</td>\n",
       "      <td>100</td>\n",
       "      <td>8.28</td>\n",
       "    </tr>\n",
       "  </tbody>\n",
       "</table>\n",
       "<p>589 rows × 9 columns</p>\n",
       "</div>"
      ],
      "text/plain": [
       "              City  City ID Country  Latitude  Longitude  Temperature  \\\n",
       "0           itoman  1861280      JP     26.12     127.67        62.51   \n",
       "1        busselton  2075265      AU    -33.65     115.33        70.00   \n",
       "2          paamiut  3421193      GL     61.99     -49.67        27.79   \n",
       "3       chokurdakh  2126123      RU     70.63     147.92       -19.57   \n",
       "4          ushuaia  3833367      AR    -54.80     -68.30        44.60   \n",
       "..             ...      ...     ...       ...        ...          ...   \n",
       "584        sakakah   102527      SA     29.97      40.21        50.00   \n",
       "585  san policarpo  1688696      PH     12.18     125.51        82.42   \n",
       "586  pervomayskoye   797213      RU     43.92      46.71        41.04   \n",
       "587         boende   218680      CD     -0.22      20.87        70.14   \n",
       "588         majene  1636806      ID     -3.54     118.97        85.68   \n",
       "\n",
       "     Humidity  Cloudiness  Wind Speed  \n",
       "0          63          75       13.87  \n",
       "1          51           0        5.01  \n",
       "2          97          98       21.14  \n",
       "3          88          76        9.51  \n",
       "4          70          40       24.16  \n",
       "..        ...         ...         ...  \n",
       "584        71           0        4.70  \n",
       "585        83          67       14.18  \n",
       "586        81         100       14.27  \n",
       "587        95         100        2.35  \n",
       "588        62         100        8.28  \n",
       "\n",
       "[589 rows x 9 columns]"
      ]
     },
     "execution_count": 11,
     "metadata": {},
     "output_type": "execute_result"
    }
   ],
   "source": [
    "weather_data"
   ]
  },
  {
   "cell_type": "markdown",
   "metadata": {},
   "source": [
    "## Inspect the data and remove the cities where the humidity > 100%.\n",
    "----\n",
    "Skip this step if there are no cities that have humidity > 100%. "
   ]
  },
  {
   "cell_type": "code",
   "execution_count": null,
   "metadata": {},
   "outputs": [],
   "source": []
  },
  {
   "cell_type": "code",
   "execution_count": null,
   "metadata": {},
   "outputs": [],
   "source": []
  },
  {
   "cell_type": "code",
   "execution_count": null,
   "metadata": {},
   "outputs": [],
   "source": []
  },
  {
   "cell_type": "code",
   "execution_count": null,
   "metadata": {},
   "outputs": [],
   "source": [
    "\n"
   ]
  },
  {
   "cell_type": "markdown",
   "metadata": {},
   "source": [
    "## Plotting the Data\n",
    "* Use proper labeling of the plots using plot titles (including date of analysis) and axes labels.\n",
    "* Save the plotted figures as .pngs."
   ]
  },
  {
   "cell_type": "markdown",
   "metadata": {},
   "source": [
    "## Latitude vs. Temperature Plot"
   ]
  },
  {
   "cell_type": "code",
   "execution_count": 12,
   "metadata": {
    "scrolled": true
   },
   "outputs": [
    {
     "data": {
      "image/png": "[encoded data removed]",
      "text/plain": [
       "<Figure size 432x288 with 1 Axes>"
      ]
     },
     "metadata": {
      "needs_background": "light"
     },
     "output_type": "display_data"
    }
   ],
   "source": [
    "plt.scatter(weather_data['Latitude'], weather_data['Temperature'])\n",
    "plt.xlabel('Latitude')\n",
    "plt.ylabel('Temperature (F)')\n",
    "plt.title('City Latitude vs Temperature')\n",
    "plt.grid()\n",
    "plt.savefig('graphs/latitude_vs_temperature.png')\n",
    "plt.show()"
   ]
  },
  {
   "cell_type": "markdown",
   "metadata": {},
   "source": [
    "## Latitude vs. Humidity Plot"
   ]
  },
  {
   "cell_type": "code",
   "execution_count": 13,
   "metadata": {},
   "outputs": [
    {
     "data": {
      "image/png": "[encoded data removed]",
      "text/plain": [
       "<Figure size 432x288 with 1 Axes>"
      ]
     },
     "metadata": {
      "needs_background": "light"
     },
     "output_type": "display_data"
    }
   ],
   "source": [
    "plt.scatter(weather_data['Latitude'], weather_data['Humidity'])\n",
    "plt.xlabel('Latitude')\n",
    "plt.ylabel('Humidity (%)')\n",
    "plt.title('City Latitude vs Humidity')\n",
    "plt.grid()\n",
    "plt.savefig('graphs/latitude_vs_humidity.png')\n",
    "plt.show()"
   ]
  },
  {
   "cell_type": "markdown",
   "metadata": {},
   "source": [
    "## Latitude vs. Cloudiness Plot"
   ]
  },
  {
   "cell_type": "code",
   "execution_count": 14,
   "metadata": {},
   "outputs": [
    {
     "data": {
      "image/png": "[encoded data removed]",
      "text/plain": [
       "<Figure size 432x288 with 1 Axes>"
      ]
     },
     "metadata": {
      "needs_background": "light"
     },
     "output_type": "display_data"
    }
   ],
   "source": [
    "plt.scatter(weather_data['Latitude'], weather_data['Cloudiness'])\n",
    "plt.xlabel('Latitude')\n",
    "plt.ylabel('Cloudiness (%)')\n",
    "plt.title('City Latitude vs Cloudiness')\n",
    "plt.grid()\n",
    "plt.savefig('graphs/latitude_vs_cloudiness.png')\n",
    "plt.show()"
   ]
  },
  {
   "cell_type": "markdown",
   "metadata": {},
   "source": [
    "## Latitude vs. Wind Speed Plot"
   ]
  },
  {
   "cell_type": "code",
   "execution_count": 15,
   "metadata": {},
   "outputs": [
    {
     "data": {
      "image/png": "[encoded data removed]",
      "text/plain": [
       "<Figure size 432x288 with 1 Axes>"
      ]
     },
     "metadata": {
      "needs_background": "light"
     },
     "output_type": "display_data"
    }
   ],
   "source": [
    "plt.scatter(weather_data['Latitude'], weather_data['Wind Speed'])\n",
    "plt.xlabel('Latitude')\n",
    "plt.ylabel('Wind Speed (mph)')\n",
    "plt.title('City Latitude vs Wind Speed')\n",
    "plt.grid()\n",
    "plt.savefig('graphs/latitude_vs_windspeed.png')\n",
    "plt.show()"
   ]
  },
  {
   "cell_type": "markdown",
   "metadata": {},
   "source": [
    "## Linear Regression"
   ]
  },
  {
   "cell_type": "code",
   "execution_count": 16,
   "metadata": {},
   "outputs": [],
   "source": [
    "north_data = weather_data[weather_data['Latitude'] > 0]\n",
    "south_data = weather_data[weather_data['Latitude'] < 0]\n",
    "\n"
   ]
  },
  {
   "cell_type": "markdown",
   "metadata": {},
   "source": [
    "####  Northern Hemisphere - Max Temp vs. Latitude Linear Regression"
   ]
  },
  {
   "cell_type": "code",
   "execution_count": 17,
   "metadata": {},
   "outputs": [
    {
     "name": "stdout",
     "output_type": "stream",
     "text": [
      "The r-value is : -0.8473306720049272\n"
     ]
    },
    {
     "data": {
      "image/png": "[encoded data removed]",
      "text/plain": [
       "<Figure size 432x288 with 1 Axes>"
      ]
     },
     "metadata": {
      "needs_background": "light"
     },
     "output_type": "display_data"
    }
   ],
   "source": [
    "plt.scatter(north_data['Latitude'], north_data['Temperature'])\n",
    "(slope, intercept, rvalue, pvalue, stderr) = linregress(north_data['Latitude'], north_data['Temperature'])\n",
    "regress_values = north_data['Latitude'] * slope + intercept\n",
    "line_eq = \"y = \" + str(round(slope,2)) + \"x + \" + str(round(intercept,2))\n",
    "plt.xlabel('Latitude')\n",
    "plt.ylabel('Temperature (F)')\n",
    "plt.plot(north_data['Latitude'], regress_values,\"r-\")\n",
    "plt.annotate(line_eq,(0,-10),fontsize=15,color=\"red\")\n",
    "plt.title('City Latitude vs Temperature for Northern Hemisphere')\n",
    "print(f'The r-value is : {rvalue}')\n",
    "plt.savefig('graphs/latitude_vs_temp_north.png')\n",
    "plt.show()\n",
    "\n",
    "#This linear regression shows the general trend of the relationship between temperature and latitude\n",
    "# for the Northern hemisphere"
   ]
  },
  {
   "cell_type": "markdown",
   "metadata": {},
   "source": [
    "####  Southern Hemisphere - Max Temp vs. Latitude Linear Regression"
   ]
  },
  {
   "cell_type": "code",
   "execution_count": 18,
   "metadata": {},
   "outputs": [
    {
     "name": "stdout",
     "output_type": "stream",
     "text": [
      "The r-value is : 0.5746732231258435\n"
     ]
    },
    {
     "data": {
      "image/png": "[encoded data removed]",
      "text/plain": [
       "<Figure size 432x288 with 1 Axes>"
      ]
     },
     "metadata": {
      "needs_background": "light"
     },
     "output_type": "display_data"
    }
   ],
   "source": [
    "plt.scatter(south_data['Latitude'], south_data['Temperature'])\n",
    "(slope, intercept, rvalue, pvalue, stderr) = linregress(south_data['Latitude'], south_data['Temperature'])\n",
    "regress_values = south_data['Latitude'] * slope + intercept\n",
    "line_eq = \"y = \" + str(round(slope,2)) + \"x + \" + str(round(intercept,2))\n",
    "plt.xlabel('Latitude')\n",
    "plt.ylabel('Temperature (F)')\n",
    "plt.plot(south_data['Latitude'], regress_values,\"r-\")\n",
    "plt.annotate(line_eq,(-55,85),fontsize=15,color=\"red\")\n",
    "plt.title('City Latitude vs Temperature for Southern Hemisphere')\n",
    "print(f'The r-value is : {rvalue}')\n",
    "plt.savefig('graphs/latitude_vs_temp_south.png')\n",
    "plt.show()\n",
    "\n",
    "#This linear regression shows the general trend of the relationship between temperature and latitude\n",
    "# for the Southern hemisphere"
   ]
  },
  {
   "cell_type": "markdown",
   "metadata": {},
   "source": [
    "####  Northern Hemisphere - Humidity (%) vs. Latitude Linear Regression"
   ]
  },
  {
   "cell_type": "code",
   "execution_count": 26,
   "metadata": {},
   "outputs": [
    {
     "name": "stdout",
     "output_type": "stream",
     "text": [
      "The r-value is : 0.2718552055661716\n"
     ]
    },
    {
     "data": {
      "image/png": "[encoded data removed]",
      "text/plain": [
       "<Figure size 432x288 with 1 Axes>"
      ]
     },
     "metadata": {
      "needs_background": "light"
     },
     "output_type": "display_data"
    }
   ],
   "source": [
    "plt.scatter(north_data['Latitude'], north_data['Humidity'])\n",
    "(slope, intercept, rvalue, pvalue, stderr) = linregress(north_data['Latitude'], north_data['Humidity'])\n",
    "regress_values = north_data['Latitude'] * slope + intercept\n",
    "line_eq = \"y = \" + str(round(slope,2)) + \"x + \" + str(round(intercept,2))\n",
    "plt.plot(north_data['Latitude'], regress_values,\"r-\")\n",
    "plt.annotate(line_eq,(40,20),fontsize=15,color=\"red\")\n",
    "plt.xlabel('Latitude')\n",
    "plt.ylabel('Humidity (%)')\n",
    "plt.title('City Latitude vs Humidity for Northern Hemisphere')\n",
    "print(f'The r-value is : {rvalue}')\n",
    "plt.savefig('graphs/latitude_vs_humidity_north.png')\n",
    "plt.show()\n",
    "\n",
    "#This linear regression shows the general trend of the relationship between Humidity and latitude\n",
    "# for the Northern hemisphere"
   ]
  },
  {
   "cell_type": "markdown",
   "metadata": {},
   "source": [
    "####  Southern Hemisphere - Humidity (%) vs. Latitude Linear Regression"
   ]
  },
  {
   "cell_type": "code",
   "execution_count": 20,
   "metadata": {},
   "outputs": [
    {
     "name": "stdout",
     "output_type": "stream",
     "text": [
      "The r-value is : 0.22578185441726958\n"
     ]
    },
    {
     "data": {
      "image/png": "[encoded data removed]",
      "text/plain": [
       "<Figure size 432x288 with 1 Axes>"
      ]
     },
     "metadata": {
      "needs_background": "light"
     },
     "output_type": "display_data"
    }
   ],
   "source": [
    "plt.scatter(south_data['Latitude'], south_data['Humidity'])\n",
    "(slope, intercept, rvalue, pvalue, stderr) = linregress(south_data['Latitude'], south_data['Humidity'])\n",
    "regress_values = south_data['Latitude'] * slope + intercept\n",
    "line_eq = \"y = \" + str(round(slope,2)) + \"x + \" + str(round(intercept,2))\n",
    "plt.plot(south_data['Latitude'], regress_values,\"r-\")\n",
    "plt.annotate(line_eq,(-25,30),fontsize=15,color=\"red\")\n",
    "plt.xlabel('Latitude')\n",
    "plt.ylabel('Humidity (%)')\n",
    "plt.title('City Latitude vs Humidity for Southern Hemisphere')\n",
    "print(f'The r-value is : {rvalue}')\n",
    "plt.savefig('graphs/latitude_vs_humidity_south.png')\n",
    "plt.show()\n",
    "\n",
    "#This linear regression shows the general trend of the relationship between humidity and latitude\n",
    "# for the Southern hemisphere"
   ]
  },
  {
   "cell_type": "markdown",
   "metadata": {},
   "source": [
    "####  Northern Hemisphere - Cloudiness (%) vs. Latitude Linear Regression"
   ]
  },
  {
   "cell_type": "code",
   "execution_count": 21,
   "metadata": {},
   "outputs": [
    {
     "name": "stdout",
     "output_type": "stream",
     "text": [
      "The r-value is : 0.2129620986149154\n"
     ]
    },
    {
     "data": {
      "image/png": "[encoded data removed]",
      "text/plain": [
       "<Figure size 432x288 with 1 Axes>"
      ]
     },
     "metadata": {
      "needs_background": "light"
     },
     "output_type": "display_data"
    }
   ],
   "source": [
    "plt.scatter(north_data['Latitude'], north_data['Cloudiness'])\n",
    "(slope, intercept, rvalue, pvalue, stderr) = linregress(north_data['Latitude'], north_data['Cloudiness'])\n",
    "regress_values = north_data['Latitude'] * slope + intercept\n",
    "line_eq = \"y = \" + str(round(slope,2)) + \"x + \" + str(round(intercept,2))\n",
    "plt.plot(north_data['Latitude'], regress_values,\"r-\")\n",
    "plt.annotate(line_eq,(45,10),fontsize=15,color=\"red\")\n",
    "plt.xlabel('Latitude')\n",
    "plt.ylabel('Cloudiness')\n",
    "plt.title('City Latitude vs Cloudiness for Northern Hemisphere')\n",
    "print(f'The r-value is : {rvalue}')\n",
    "plt.savefig('graphs/latitude_vs_cloudiness_north.png')\n",
    "plt.show()\n",
    "\n",
    "#This linear regression shows the general trend of the relationship between cloudiness and latitude\n",
    "# for the Northern hemisphere"
   ]
  },
  {
   "cell_type": "markdown",
   "metadata": {},
   "source": [
    "####  Southern Hemisphere - Cloudiness (%) vs. Latitude Linear Regression"
   ]
  },
  {
   "cell_type": "code",
   "execution_count": 22,
   "metadata": {},
   "outputs": [
    {
     "name": "stdout",
     "output_type": "stream",
     "text": [
      "The r-value is : 0.02375830881676773\n"
     ]
    },
    {
     "data": {
      "image/png": "[encoded data removed]",
      "text/plain": [
       "<Figure size 432x288 with 1 Axes>"
      ]
     },
     "metadata": {
      "needs_background": "light"
     },
     "output_type": "display_data"
    }
   ],
   "source": [
    "plt.scatter(south_data['Latitude'], south_data['Cloudiness'])\n",
    "(slope, intercept, rvalue, pvalue, stderr) = linregress(south_data['Latitude'], south_data['Cloudiness'])\n",
    "regress_values = south_data['Latitude'] * slope + intercept\n",
    "line_eq = \"y = \" + str(round(slope,2)) + \"x + \" + str(round(intercept,2))\n",
    "plt.plot(south_data['Latitude'], regress_values,\"r-\")\n",
    "plt.annotate(line_eq,(-50,10),fontsize=15,color=\"red\")\n",
    "plt.xlabel('Latitude')\n",
    "plt.ylabel('Cloudiness')\n",
    "plt.title('City Latitude vs Cloudiness for Southern Hemisphere')\n",
    "print(f'The r-value is : {rvalue}')\n",
    "\n",
    "plt.savefig('graphs/latitude_vs_cloudiness_south.png')\n",
    "plt.show()\n",
    "\n",
    "#This linear regression shows the general trend of the relationship between cloudiness and latitude\n",
    "# for the Southern hemisphere"
   ]
  },
  {
   "cell_type": "markdown",
   "metadata": {},
   "source": [
    "####  Northern Hemisphere - Wind Speed (mph) vs. Latitude Linear Regression"
   ]
  },
  {
   "cell_type": "code",
   "execution_count": 23,
   "metadata": {},
   "outputs": [
    {
     "name": "stdout",
     "output_type": "stream",
     "text": [
      "The r-value is : 0.01746767341452307\n"
     ]
    },
    {
     "data": {
      "image/png": "[encoded data removed]",
      "text/plain": [
       "<Figure size 432x288 with 1 Axes>"
      ]
     },
     "metadata": {
      "needs_background": "light"
     },
     "output_type": "display_data"
    }
   ],
   "source": [
    "plt.scatter(north_data['Latitude'], north_data['Wind Speed'])\n",
    "(slope, intercept, rvalue, pvalue, stderr) = linregress(north_data['Latitude'], north_data['Wind Speed'])\n",
    "regress_values = north_data['Latitude'] * slope + intercept\n",
    "line_eq = \"y = \" + str(round(slope,2)) + \"x + \" + str(round(intercept,2))\n",
    "plt.plot(north_data['Latitude'], regress_values,\"r-\")\n",
    "plt.annotate(line_eq,(5,35),fontsize=15,color=\"red\")\n",
    "plt.xlabel('Latitude')\n",
    "plt.ylabel('Wind Speed (mph)')\n",
    "plt.title('City Latitude vs Wind Speed for Northern Hemisphere')\n",
    "print(f'The r-value is : {rvalue}')\n",
    "plt.savefig('graphs/latitude_vs_windspeed_north.png')\n",
    "plt.show()\n",
    "\n",
    "#This linear regression shows the general trend of the relationship between wind speed and latitude\n",
    "# for the Northern hemisphere"
   ]
  },
  {
   "cell_type": "code",
   "execution_count": null,
   "metadata": {},
   "outputs": [],
   "source": []
  },
  {
   "cell_type": "markdown",
   "metadata": {},
   "source": [
    "####  Southern Hemisphere - Wind Speed (mph) vs. Latitude Linear Regression"
   ]
  },
  {
   "cell_type": "code",
   "execution_count": 28,
   "metadata": {},
   "outputs": [
    {
     "name": "stdout",
     "output_type": "stream",
     "text": [
      "The r-value is : -0.28067284339172066\n"
     ]
    },
    {
     "data": {
      "image/png": "[encoded data removed]",
      "text/plain": [
       "<Figure size 432x288 with 1 Axes>"
      ]
     },
     "metadata": {
      "needs_background": "light"
     },
     "output_type": "display_data"
    }
   ],
   "source": [
    "plt.scatter(south_data['Latitude'], south_data['Wind Speed'])\n",
    "(slope, intercept, rvalue, pvalue, stderr) = linregress(south_data['Latitude'], south_data['Wind Speed'])\n",
    "regress_values = south_data['Latitude'] * slope + intercept\n",
    "line_eq = \"y = \" + str(round(slope,2)) + \"x + \" + str(round(intercept,2))\n",
    "plt.plot(south_data['Latitude'], regress_values,\"r-\")\n",
    "plt.annotate(line_eq,(-30,20),fontsize=15,color=\"red\")\n",
    "plt.xlabel('Latitude')\n",
    "plt.ylabel('Wind Speed (mph)')\n",
    "plt.title('City Latitude vs Wind Speed for Southern Hemisphere')\n",
    "print(f'The r-value is : {rvalue}')\n",
    "plt.savefig('graphs/latitude_vs_windspeed_south.png')\n",
    "plt.show()\n",
    "\n",
    "#This linear regression shows the general trend of the relationship between wind speed and latitude\n",
    "# for the Southern hemisphere"
   ]
  },
  {
   "cell_type": "code",
   "execution_count": null,
   "metadata": {},
   "outputs": [],
   "source": []
  },
  {
   "cell_type": "code",
   "execution_count": null,
   "metadata": {},
   "outputs": [],
   "source": []
  },
  {
   "cell_type": "code",
   "execution_count": null,
   "metadata": {},
   "outputs": [],
   "source": []
  },
  {
   "cell_type": "code",
   "execution_count": null,
   "metadata": {},
   "outputs": [],
   "source": []
  }
 ],
 "metadata": {
  "anaconda-cloud": {},
  "kernel_info": {
   "name": "python3"
  },
  "kernelspec": {
   "display_name": "Python 3",
   "language": "python",
   "name": "python3"
  },
  "language_info": {
   "codemirror_mode": {
    "name": "ipython",
    "version": 3
   },
   "file_extension": ".py",
   "mimetype": "text/x-python",
   "name": "python",
   "nbconvert_exporter": "python",
   "pygments_lexer": "ipython3",
   "version": "3.8.5"
  },
  "latex_envs": {
   "LaTeX_envs_menu_present": true,
   "autoclose": false,
   "autocomplete": true,
   "bibliofile": "biblio.bib",
   "cite_by": "apalike",
   "current_citInitial": 1,
   "eqLabelWithNumbers": true,
   "eqNumInitial": 1,
   "hotkeys": {
    "equation": "Ctrl-E",
    "itemize": "Ctrl-I"
   },
   "labels_anchors": false,
   "latex_user_defs": false,
   "report_style_numbering": false,
   "user_envs_cfg": false
  },
  "nteract": {
   "version": "0.12.3"
  }
 },
 "nbformat": 4,
 "nbformat_minor": 2
}
